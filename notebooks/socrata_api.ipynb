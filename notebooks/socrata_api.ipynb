{
 "cells": [
  {
   "cell_type": "code",
   "execution_count": 1,
   "id": "fc06e51e",
   "metadata": {},
   "outputs": [],
   "source": [
    "import requests\n",
    "import pandas as pd\n",
    "import matplotlib.pyplot as plt\n",
    "from sodapy import Socrata"
   ]
  },
  {
   "cell_type": "code",
   "execution_count": 2,
   "id": "655b56e0",
   "metadata": {},
   "outputs": [
    {
     "name": "stderr",
     "output_type": "stream",
     "text": [
      "WARNING:root:Requests made without an app_token will be subject to strict throttling limits.\n"
     ]
    }
   ],
   "source": [
    "client = Socrata(\"data.nashville.gov\", None)"
   ]
  },
  {
   "cell_type": "code",
   "execution_count": 3,
   "id": "e94806c4",
   "metadata": {},
   "outputs": [],
   "source": [
    "#endpoint for nashville top 500 monthly searches\n",
    "#source: https://data.nashville.gov/Public-Services/Nashville-gov-Top-500-Monthly-Searches/fuaa-r5cm\n",
    "endpoint = 'https://data.nashville.gov/resource/fuaa-r5cm.json'"
   ]
  },
  {
   "cell_type": "code",
   "execution_count": 4,
   "id": "e76d04f0",
   "metadata": {},
   "outputs": [],
   "source": [
    "response = requests.get(endpoint)"
   ]
  },
  {
   "cell_type": "code",
   "execution_count": 5,
   "id": "f9143166",
   "metadata": {},
   "outputs": [
    {
     "data": {
      "text/plain": [
       "<Response [200]>"
      ]
     },
     "execution_count": 5,
     "metadata": {},
     "output_type": "execute_result"
    }
   ],
   "source": [
    "response"
   ]
  },
  {
   "cell_type": "code",
   "execution_count": 6,
   "id": "79292cb0",
   "metadata": {},
   "outputs": [
    {
     "data": {
      "text/plain": [
       "'[{\"month_name\":\"January\",\"year\":\"2014\",\"query_count\":\"223\",\"query_text\":\"ebid\"}\\n,{\"month_name\":\"January\",\"year\":\"2014\",\"query_count\":\"112\",\"query_text\":\"property maps\"}\\n,{\"month_name\":\"January\",\"year\":\"2014\",\"query_count\":\"97\",\"query_text\":\"maps\"}\\n,{\"month_name\":\"January\",\"year\":\"2014\",\"query_count\":\"90\",\"query_text\":\"property tax\"}\\n,{\"month_name\":\"January\",\"year\":\"2014\",\"query_count\":\"76\",\"query_text\":\"jobs\"}\\n,{\"month_name\":\"January\",\"year\":\"2014\",\"query_count\":\"75\",\"query_text\":\"employment\"}\\n,{\"month_name\":\"January\",\"year\":\"2014\",\"query_count\":\"73\",\"query_text\":\"human resources\"}\\n,{\"month_name\":\"January\",\"year\":\"2014\",\"query_count\":\"62\",\"query_text\":\"police\"}\\n,{\"month_name\":\"January\",\"year\":\"2014\",\"query_count\":\"61\",\"query_text\":\"criminal court clerk\"}\\n,{\"month_name\":\"January\",\"year\":\"2014\",\"query_count\":\"53\",\"query_text\":\"media releases\"}\\n,{\"month_name\":\"January\",\"year\":\"2014\",\"query_count\":\"50\",\"query_text\":\"property taxes\"}\\n,{\"month_name\":\"January\",\"year\":\"2014\",\"query_count\":\"49\",\"query_text\":\"gis\"}\\n,{\"month_name\":\"January\",\"year\":\"2014\",\"query_count\":\"46\",\"query_text\":\"animal control\"}\\n,{\"month_name\":\"January\",\"year\":\"2014\",\"query_count\":\"46\",\"query_text\":\"traffic signal optimization study\"}\\n,{\"month_name\":\"January\",\"year\":\"2014\",\"query_count\":\"46\",\"query_text\":\"arrest records\"}\\n,{\"month_name\":\"January\",\"year\":\"2014\",\"query_count\":\"45\",\"query_text\":\"property assessor\"}\\n,{\"month_name\":\"January\",\"year\":\"2014\",\"query_count\":\"44\",\"query_text\":\"ess\"}\\n,{\"month_name\":\"January\",\"year\":\"2014\",\"query_count\":\"41\",\"query_text\":\"water\"}\\n,{\"month_name\":\"January\",\"year\":\"2014\",\"query_count\":\"41\",\"query_text\":\"zoning\"}\\n,{\"month_name\":\"January\",\"year\":\"2014\",\"query_count\":\"37\",\"query_text\":\"codes\"}\\n,{\"month_name\":\"January\",\"year\":\"2014\",\"query_count\":\"35\",\"query_text\":\"criminal court\"}\\n,{\"month_name\":\"January\",\"year\":\"2014\",\"query_count\":\"35\",\"query_text\":\"inside metro\"}\\n,{\"month_name\":\"January\",\"year\":\"2014\",\"query_count\":\"33\",\"query_text\":\"parking\"}\\n,{\"month_name\":\"January\",\"year\":\"2014\",\"query_count\":\"30\",\"query_text\":\"employee self service\"}\\n,{\"month_name\":\"January\",\"year\":\"2014\",\"query_count\":\"29\",\"query_text\":\"library\"}\\n,{\"month_name\":\"January\",\"year\":\"2014\",\"query_count\":\"29\",\"query_text\":\"bidding\"}\\n,{\"month_name\":\"January\",\"year\":\"2014\",\"query_count\":\"28\",\"query_text\":\"accident report\"}\\n,{\"month_name\":\"January\",\"year\":\"2014\",\"query_count\":\"28\",\"query_text\":\"planning\"}\\n,{\"month_name\":\"January\",\"year\":\"2014\",\"query_count\":\"28\",\"query_text\":\"pump station\"}\\n,{\"month_name\":\"January\",\"year\":\"2014\",\"query_count\":\"27\",\"query_text\":\"payroll\"}\\n,{\"month_name\":\"January\",\"year\":\"2014\",\"query_count\":\"27\",\"query_text\":\"google\"}\\n,{\"month_name\":\"January\",\"year\":\"2014\",\"query_count\":\"27\",\"query_text\":\"property\"}\\n,{\"month_name\":\"January\",\"year\":\"2014\",\"query_count\":\"26\",\"query_text\":\"register of deeds\"}\\n,{\"month_name\":\"January\",\"year\":\"2014\",\"query_count\":\"26\",\"query_text\":\"news media\"}\\n,{\"month_name\":\"January\",\"year\":\"2014\",\"query_count\":\"26\",\"query_text\":\"traffic management study\"}\\n,{\"month_name\":\"January\",\"year\":\"2014\",\"query_count\":\"26\",\"query_text\":\"business license\"}\\n,{\"month_name\":\"January\",\"year\":\"2014\",\"query_count\":\"25\",\"query_text\":\"warrants\"}\\n,{\"month_name\":\"January\",\"year\":\"2014\",\"query_count\":\"25\",\"query_text\":\"permits\"}\\n,{\"month_name\":\"January\",\"year\":\"2014\",\"query_count\":\"25\",\"query_text\":\"civil service rules\"}\\n,{\"month_name\":\"January\",\"year\":\"2014\",\"query_count\":\"24\",\"query_text\":\"inmate search\"}\\n,{\"month_name\":\"January\",\"year\":\"2014\",\"query_count\":\"24\",\"query_text\":\"civil service\"}\\n,{\"month_name\":\"January\",\"year\":\"2014\",\"query_count\":\"24\",\"query_text\":\"media release\"}\\n,{\"month_name\":\"January\",\"year\":\"2014\",\"query_count\":\"23\",\"query_text\":\"careers\"}\\n,{\"month_name\":\"January\",\"year\":\"2014\",\"query_count\":\"23\",\"query_text\":\"arrests\"}\\n,{\"month_name\":\"January\",\"year\":\"2014\",\"query_count\":\"23\",\"query_text\":\"police department\"}\\n,{\"month_name\":\"January\",\"year\":\"2014\",\"query_count\":\"22\",\"query_text\":\"associated bond\"}\\n,{\"month_name\":\"January\",\"year\":\"2014\",\"query_count\":\"22\",\"query_text\":\"procurement\"}\\n,{\"month_name\":\"January\",\"year\":\"2014\",\"query_count\":\"22\",\"query_text\":\"employment opportunities\"}\\n,{\"month_name\":\"January\",\"year\":\"2014\",\"query_count\":\"22\",\"query_text\":\"public works\"}\\n,{\"month_name\":\"January\",\"year\":\"2014\",\"query_count\":\"22\",\"query_text\":\"mugshots\"}\\n,{\"month_name\":\"January\",\"year\":\"2014\",\"query_count\":\"21\",\"query_text\":\"auction\"}\\n,{\"month_name\":\"January\",\"year\":\"2014\",\"query_count\":\"21\",\"query_text\":\"im\"}\\n,{\"month_name\":\"January\",\"year\":\"2014\",\"query_count\":\"20\",\"query_text\":\"traffic school\"}\\n,{\"month_name\":\"January\",\"year\":\"2014\",\"query_count\":\"20\",\"query_text\":\"sulphur dell\"}\\n,{\"month_name\":\"January\",\"year\":\"2014\",\"query_count\":\"20\",\"query_text\":\"web pro\"}\\n,{\"month_name\":\"January\",\"year\":\"2014\",\"query_count\":\"20\",\"query_text\":\"forms\"}\\n,{\"month_name\":\"January\",\"year\":\"2014\",\"query_count\":\"19\",\"query_text\":\"property records\"}\\n,{\"month_name\":\"January\",\"year\":\"2014\",\"query_count\":\"19\",\"query_text\":\"health department\"}\\n,{\"month_name\":\"January\",\"year\":\"2014\",\"query_count\":\"19\",\"query_text\":\"Obstructions in the street\"}\\n,{\"month_name\":\"January\",\"year\":\"2014\",\"query_count\":\"18\",\"query_text\":\"Ebid\"}\\n,{\"month_name\":\"January\",\"year\":\"2014\",\"query_count\":\"18\",\"query_text\":\"public records\"}\\n,{\"month_name\":\"January\",\"year\":\"2014\",\"query_count\":\"18\",\"query_text\":\"kiva\"}\\n,{\"month_name\":\"January\",\"year\":\"2014\",\"query_count\":\"18\",\"query_text\":\"building permits\"}\\n,{\"month_name\":\"January\",\"year\":\"2014\",\"query_count\":\"18\",\"query_text\":\"tax assessor\"}\\n,{\"month_name\":\"January\",\"year\":\"2014\",\"query_count\":\"18\",\"query_text\":\"Media releases\"}\\n,{\"month_name\":\"January\",\"year\":\"2014\",\"query_count\":\"18\",\"query_text\":\"leash law\"}\\n,{\"month_name\":\"January\",\"year\":\"2014\",\"query_count\":\"18\",\"query_text\":\"housing\"}\\n,{\"month_name\":\"January\",\"year\":\"2014\",\"query_count\":\"18\",\"query_text\":\"rfp\"}\\n,{\"month_name\":\"January\",\"year\":\"2014\",\"query_count\":\"17\",\"query_text\":\"Jobs\"}\\n,{\"month_name\":\"January\",\"year\":\"2014\",\"query_count\":\"17\",\"query_text\":\"booking\"}\\n,{\"month_name\":\"January\",\"year\":\"2014\",\"query_count\":\"17\",\"query_text\":\"stormwater\"}\\n,{\"month_name\":\"January\",\"year\":\"2014\",\"query_count\":\"17\",\"query_text\":\"courts\"}\\n,{\"month_name\":\"January\",\"year\":\"2014\",\"query_count\":\"17\",\"query_text\":\"iprocurement\"}\\n,{\"month_name\":\"January\",\"year\":\"2014\",\"query_count\":\"17\",\"query_text\":\"assessor\"}\\n,{\"month_name\":\"January\",\"year\":\"2014\",\"query_count\":\"17\",\"query_text\":\"Police\"}\\n,{\"month_name\":\"January\",\"year\":\"2014\",\"query_count\":\"17\",\"query_text\":\"birth certificate\"}\\n,{\"month_name\":\"January\",\"year\":\"2014\",\"query_count\":\"17\",\"query_text\":\"police reports\"}\\n,{\"month_name\":\"January\",\"year\":\"2014\",\"query_count\":\"16\",\"query_text\":\"metro action commission\"}\\n,{\"month_name\":\"January\",\"year\":\"2014\",\"query_count\":\"16\",\"query_text\":\"recycling\"}\\n,{\"month_name\":\"January\",\"year\":\"2014\",\"query_count\":\"16\",\"query_text\":\"metro water\"}\\n,{\"month_name\":\"January\",\"year\":\"2014\",\"query_count\":\"16\",\"query_text\":\"metro pay plan\"}\\n,{\"month_name\":\"January\",\"year\":\"2014\",\"query_count\":\"16\",\"query_text\":\"its\"}\\n,{\"month_name\":\"January\",\"year\":\"2014\",\"query_count\":\"16\",\"query_text\":\"community education\"}\\n,{\"month_name\":\"January\",\"year\":\"2014\",\"query_count\":\"15\",\"query_text\":\"holidays\"}\\n,{\"month_name\":\"January\",\"year\":\"2014\",\"query_count\":\"15\",\"query_text\":\"popular restaurants\"}\\n,{\"month_name\":\"January\",\"year\":\"2014\",\"query_count\":\"15\",\"query_text\":\"backflow\"}\\n,{\"month_name\":\"January\",\"year\":\"2014\",\"query_count\":\"15\",\"query_text\":\"marriage license\"}\\n,{\"month_name\":\"January\",\"year\":\"2014\",\"query_count\":\"15\",\"query_text\":\"job openings\"}\\n,{\"month_name\":\"January\",\"year\":\"2014\",\"query_count\":\"15\",\"query_text\":\"police report\"}\\n,{\"month_name\":\"January\",\"year\":\"2014\",\"query_count\":\"15\",\"query_text\":\"fiber optic design\"}\\n,{\"month_name\":\"January\",\"year\":\"2014\",\"query_count\":\"15\",\"query_text\":\"trustee\"}\\n,{\"month_name\":\"January\",\"year\":\"2014\",\"query_count\":\"15\",\"query_text\":\"increment\"}\\n,{\"month_name\":\"January\",\"year\":\"2014\",\"query_count\":\"14\",\"query_text\":\"cemetery\"}\\n,{\"month_name\":\"January\",\"year\":\"2014\",\"query_count\":\"14\",\"query_text\":\"bids\"}\\n,{\"month_name\":\"January\",\"year\":\"2014\",\"query_count\":\"14\",\"query_text\":\"pedestrian bridges\"}\\n,{\"month_name\":\"January\",\"year\":\"2014\",\"query_count\":\"14\",\"query_text\":\"zoning map\"}\\n,{\"month_name\":\"January\",\"year\":\"2014\",\"query_count\":\"14\",\"query_text\":\"email\"}\\n,{\"month_name\":\"January\",\"year\":\"2014\",\"query_count\":\"14\",\"query_text\":\"Property taxes\"}\\n,{\"month_name\":\"January\",\"year\":\"2014\",\"query_count\":\"14\",\"query_text\":\"budget\"}\\n,{\"month_name\":\"January\",\"year\":\"2014\",\"query_count\":\"14\",\"query_text\":\"traffic\"}\\n,{\"month_name\":\"January\",\"year\":\"2014\",\"query_count\":\"14\",\"query_text\":\"criminal report\"}\\n,{\"month_name\":\"January\",\"year\":\"2014\",\"query_count\":\"13\",\"query_text\":\"development tracker\"}\\n,{\"month_name\":\"January\",\"year\":\"2014\",\"query_count\":\"13\",\"query_text\":\"traffic incident\"}\\n,{\"month_name\":\"January\",\"year\":\"2014\",\"query_count\":\"13\",\"query_text\":\"directory\"}\\n,{\"month_name\":\"January\",\"year\":\"2014\",\"query_count\":\"13\",\"query_text\":\"8.12.020\"}\\n,{\"month_name\":\"January\",\"year\":\"2014\",\"query_count\":\"13\",\"query_text\":\"assessor of property\"}\\n,{\"month_name\":\"January\",\"year\":\"2014\",\"query_count\":\"13\",\"query_text\":\"Ice skating\"}\\n,{\"month_name\":\"January\",\"year\":\"2014\",\"query_count\":\"13\",\"query_text\":\"utility work\"}\\n,{\"month_name\":\"January\",\"year\":\"2014\",\"query_count\":\"13\",\"query_text\":\"parks\"}\\n,{\"month_name\":\"January\",\"year\":\"2014\",\"query_count\":\"13\",\"query_text\":\"internet crimes against children\"}\\n,{\"month_name\":\"January\",\"year\":\"2014\",\"query_count\":\"13\",\"query_text\":\"purchasing\"}\\n,{\"month_name\":\"January\",\"year\":\"2014\",\"query_count\":\"13\",\"query_text\":\"metro maps\"}\\n,{\"month_name\":\"January\",\"year\":\"2014\",\"query_count\":\"13\",\"query_text\":\"Animal control\"}\\n,{\"month_name\":\"January\",\"year\":\"2014\",\"query_count\":\"13\",\"query_text\":\"pay plan\"}\\n,{\"month_name\":\"January\",\"year\":\"2014\",\"query_count\":\"13\",\"query_text\":\"ben west library\"}\\n,{\"month_name\":\"January\",\"year\":\"2014\",\"query_count\":\"13\",\"query_text\":\"mugshot\"}\\n,{\"month_name\":\"January\",\"year\":\"2014\",\"query_count\":\"13\",\"query_text\":\"arrest\"}\\n,{\"month_name\":\"January\",\"year\":\"2014\",\"query_count\":\"13\",\"query_text\":\"accident reports\"}\\n,{\"month_name\":\"January\",\"year\":\"2014\",\"query_count\":\"13\",\"query_text\":\"water services\"}\\n,{\"month_name\":\"January\",\"year\":\"2014\",\"query_count\":\"12\",\"query_text\":\"Property tax\"}\\n,{\"month_name\":\"January\",\"year\":\"2014\",\"query_count\":\"12\",\"query_text\":\"Steve Anderson\"}\\n,{\"month_name\":\"January\",\"year\":\"2014\",\"query_count\":\"12\",\"query_text\":\"planning department\"}\\n,{\"month_name\":\"January\",\"year\":\"2014\",\"query_count\":\"12\",\"query_text\":\"pay scale\"}\\n,{\"month_name\":\"January\",\"year\":\"2014\",\"query_count\":\"12\",\"query_text\":\"benefits\"}\\n,{\"month_name\":\"January\",\"year\":\"2014\",\"query_count\":\"12\",\"query_text\":\"impound auction\"}\\n,{\"month_name\":\"January\",\"year\":\"2014\",\"query_count\":\"12\",\"query_text\":\"food stamps\"}\\n,{\"month_name\":\"January\",\"year\":\"2014\",\"query_count\":\"12\",\"query_text\":\"bond reductions\"}\\n,{\"month_name\":\"January\",\"year\":\"2014\",\"query_count\":\"12\",\"query_text\":\"e bid\"}\\n,{\"month_name\":\"January\",\"year\":\"2014\",\"query_count\":\"12\",\"query_text\":\"Maps\"}\\n,{\"month_name\":\"January\",\"year\":\"2014\",\"query_count\":\"12\",\"query_text\":\"downtown code\"}\\n,{\"month_name\":\"January\",\"year\":\"2014\",\"query_count\":\"12\",\"query_text\":\"Metro electrical license\"}\\n,{\"month_name\":\"January\",\"year\":\"2014\",\"query_count\":\"12\",\"query_text\":\"metro contracts\"}\\n,{\"month_name\":\"January\",\"year\":\"2014\",\"query_count\":\"12\",\"query_text\":\"ess.nashville.gov\"}\\n,{\"month_name\":\"January\",\"year\":\"2014\",\"query_count\":\"12\",\"query_text\":\"metro action\"}\\n,{\"month_name\":\"January\",\"year\":\"2014\",\"query_count\":\"12\",\"query_text\":\"standby note purchase agreement\"}\\n,{\"month_name\":\"January\",\"year\":\"2014\",\"query_count\":\"11\",\"query_text\":\"court forms\"}\\n,{\"month_name\":\"January\",\"year\":\"2014\",\"query_count\":\"11\",\"query_text\":\"county clerk\"}\\n,{\"month_name\":\"January\",\"year\":\"2014\",\"query_count\":\"11\",\"query_text\":\"Douglas head start\"}\\n,{\"month_name\":\"January\",\"year\":\"2014\",\"query_count\":\"11\",\"query_text\":\"sheriff department\"}\\n,{\"month_name\":\"January\",\"year\":\"2014\",\"query_count\":\"11\",\"query_text\":\"finance\"}\\n,{\"month_name\":\"January\",\"year\":\"2014\",\"query_count\":\"11\",\"query_text\":\"hr\"}\\n,{\"month_name\":\"January\",\"year\":\"2014\",\"query_count\":\"11\",\"query_text\":\"sulpher dell\"}\\n,{\"month_name\":\"January\",\"year\":\"2014\",\"query_count\":\"11\",\"query_text\":\"arrest records by name\"}\\n,{\"month_name\":\"January\",\"year\":\"2014\",\"query_count\":\"11\",\"query_text\":\"BIO RETENTION PLANTING\"}\\n,{\"month_name\":\"January\",\"year\":\"2014\",\"query_count\":\"11\",\"query_text\":\"victims compensation\"}\\n,{\"month_name\":\"January\",\"year\":\"2014\",\"query_count\":\"11\",\"query_text\":\"criminal search\"}\\n,{\"month_name\":\"January\",\"year\":\"2014\",\"query_count\":\"11\",\"query_text\":\"japan\"}\\n,{\"month_name\":\"January\",\"year\":\"2014\",\"query_count\":\"11\",\"query_text\":\"property assessment\"}\\n,{\"month_name\":\"January\",\"year\":\"2014\",\"query_count\":\"11\",\"query_text\":\"ebid.nashville.gov\"}\\n,{\"month_name\":\"January\",\"year\":\"2014\",\"query_count\":\"11\",\"query_text\":\"fmla\"}\\n,{\"month_name\":\"January\",\"year\":\"2014\",\"query_count\":\"11\",\"query_text\":\"internship\"}\\n,{\"month_name\":\"January\",\"year\":\"2014\",\"query_count\":\"11\",\"query_text\":\"mnps\"}\\n,{\"month_name\":\"January\",\"year\":\"2014\",\"query_count\":\"10\",\"query_text\":\"ice skating\"}\\n,{\"month_name\":\"January\",\"year\":\"2014\",\"query_count\":\"10\",\"query_text\":\"nondiscrimination\"}\\n,{\"month_name\":\"January\",\"year\":\"2014\",\"query_count\":\"10\",\"query_text\":\"beer board\"}\\n,{\"month_name\":\"January\",\"year\":\"2014\",\"query_count\":\"10\",\"query_text\":\"10 most wanted\"}\\n,{\"month_name\":\"January\",\"year\":\"2014\",\"query_count\":\"10\",\"query_text\":\"parthenon\"}\\n,{\"month_name\":\"January\",\"year\":\"2014\",\"query_count\":\"10\",\"query_text\":\"court\"}\\n,{\"month_name\":\"January\",\"year\":\"2014\",\"query_count\":\"10\",\"query_text\":\"online applications\"}\\n,{\"month_name\":\"January\",\"year\":\"2014\",\"query_count\":\"10\",\"query_text\":\"animal shelter\"}\\n,{\"month_name\":\"January\",\"year\":\"2014\",\"query_count\":\"10\",\"query_text\":\"notary\"}\\n,{\"month_name\":\"January\",\"year\":\"2014\",\"query_count\":\"10\",\"query_text\":\"EBID\"}\\n,{\"month_name\":\"January\",\"year\":\"2014\",\"query_count\":\"10\",\"query_text\":\"okinawa japan\"}\\n,{\"month_name\":\"January\",\"year\":\"2014\",\"query_count\":\"10\",\"query_text\":\"car auctions\"}\\n,{\"month_name\":\"January\",\"year\":\"2014\",\"query_count\":\"10\",\"query_text\":\"fire department\"}\\n,{\"month_name\":\"January\",\"year\":\"2014\",\"query_count\":\"10\",\"query_text\":\"license renewal\"}\\n,{\"month_name\":\"January\",\"year\":\"2014\",\"query_count\":\"10\",\"query_text\":\"metro holidays\"}\\n,{\"month_name\":\"January\",\"year\":\"2014\",\"query_count\":\"10\",\"query_text\":\"BIORETENTION\"}\\n,{\"month_name\":\"January\",\"year\":\"2014\",\"query_count\":\"10\",\"query_text\":\"warrant\"}\\n,{\"month_name\":\"January\",\"year\":\"2014\",\"query_count\":\"10\",\"query_text\":\"map\"}\\n,{\"month_name\":\"January\",\"year\":\"2014\",\"query_count\":\"10\",\"query_text\":\"metro water services\"}\\n,{\"month_name\":\"January\",\"year\":\"2014\",\"query_count\":\"10\",\"query_text\":\"police media release\"}\\n,{\"month_name\":\"January\",\"year\":\"2014\",\"query_count\":\"10\",\"query_text\":\"homicide victims\"}\\n,{\"month_name\":\"January\",\"year\":\"2014\",\"query_count\":\"10\",\"query_text\":\"recent bookings\"}\\n,{\"month_name\":\"January\",\"year\":\"2014\",\"query_count\":\"10\",\"query_text\":\"car titles\"}\\n,{\"month_name\":\"January\",\"year\":\"2014\",\"query_count\":\"10\",\"query_text\":\"procurement code\"}\\n,{\"month_name\":\"January\",\"year\":\"2014\",\"query_count\":\"10\",\"query_text\":\"zoning code\"}\\n,{\"month_name\":\"January\",\"year\":\"2014\",\"query_count\":\"10\",\"query_text\":\"STAFF\"}\\n,{\"month_name\":\"January\",\"year\":\"2014\",\"query_count\":\"10\",\"query_text\":\"metro public schools\"}\\n,{\"month_name\":\"January\",\"year\":\"2014\",\"query_count\":\"10\",\"query_text\":\"employee discounts\"}\\n,{\"month_name\":\"January\",\"year\":\"2014\",\"query_count\":\"10\",\"query_text\":\"robert kelly\"}\\n,{\"month_name\":\"January\",\"year\":\"2014\",\"query_count\":\"10\",\"query_text\":\"mapping\"}\\n,{\"month_name\":\"January\",\"year\":\"2014\",\"query_count\":\"10\",\"query_text\":\"records\"}\\n,{\"month_name\":\"January\",\"year\":\"2014\",\"query_count\":\"10\",\"query_text\":\"edmondson\"}\\n,{\"month_name\":\"January\",\"year\":\"2014\",\"query_count\":\"10\",\"query_text\":\"sports authority\"}\\n,{\"month_name\":\"January\",\"year\":\"2014\",\"query_count\":\"10\",\"query_text\":\"robert william kelley\"}\\n,{\"month_name\":\"January\",\"year\":\"2014\",\"query_count\":\"9\",\"query_text\":\"wrecks at a specific location in Nashville\"}\\n,{\"month_name\":\"January\",\"year\":\"2014\",\"query_count\":\"9\",\"query_text\":\"weather\"}\\n,{\"month_name\":\"January\",\"year\":\"2014\",\"query_count\":\"9\",\"query_text\":\"information security\"}\\n,{\"month_name\":\"January\",\"year\":\"2014\",\"query_count\":\"9\",\"query_text\":\"Street solicitation\"}\\n,{\"month_name\":\"January\",\"year\":\"2014\",\"query_count\":\"9\",\"query_text\":\"job\"}\\n,{\"month_name\":\"January\",\"year\":\"2014\",\"query_count\":\"9\",\"query_text\":\"Residency ordinance\"}\\n,{\"month_name\":\"January\",\"year\":\"2014\",\"query_count\":\"9\",\"query_text\":\"Codes\"}\\n,{\"month_name\":\"January\",\"year\":\"2014\",\"query_count\":\"9\",\"query_text\":\"Parthenon\"}\\n,{\"month_name\":\"January\",\"year\":\"2014\",\"query_count\":\"9\",\"query_text\":\"codes administration\"}\\n,{\"month_name\":\"January\",\"year\":\"2014\",\"query_count\":\"9\",\"query_text\":\"mdha\"}\\n,{\"month_name\":\"January\",\"year\":\"2014\",\"query_count\":\"9\",\"query_text\":\"Director of electrical codes\"}\\n,{\"month_name\":\"January\",\"year\":\"2014\",\"query_count\":\"9\",\"query_text\":\"BL2011-75\"}\\n,{\"month_name\":\"January\",\"year\":\"2014\",\"query_count\":\"9\",\"query_text\":\"internships\"}\\n,{\"month_name\":\"January\",\"year\":\"2014\",\"query_count\":\"9\",\"query_text\":\"reconnect fees for water service\"}\\n,{\"month_name\":\"January\",\"year\":\"2014\",\"query_count\":\"9\",\"query_text\":\"oem\"}\\n,{\"month_name\":\"January\",\"year\":\"2014\",\"query_count\":\"9\",\"query_text\":\"bid\"}\\n,{\"month_name\":\"January\",\"year\":\"2014\",\"query_count\":\"9\",\"query_text\":\"car tags\"}\\n,{\"month_name\":\"January\",\"year\":\"2014\",\"query_count\":\"9\",\"query_text\":\"bond amounts\"}\\n,{\"month_name\":\"January\",\"year\":\"2014\",\"query_count\":\"9\",\"query_text\":\"nashville metro police\"}\\n,{\"month_name\":\"January\",\"year\":\"2014\",\"query_count\":\"9\",\"query_text\":\"warrens\"}\\n,{\"month_name\":\"January\",\"year\":\"2014\",\"query_count\":\"9\",\"query_text\":\"emissions testing\"}\\n,{\"month_name\":\"January\",\"year\":\"2014\",\"query_count\":\"9\",\"query_text\":\"property tax records\"}\\n,{\"month_name\":\"January\",\"year\":\"2014\",\"query_count\":\"9\",\"query_text\":\"permit\"}\\n,{\"month_name\":\"January\",\"year\":\"2014\",\"query_count\":\"9\",\"query_text\":\"mccabe\"}\\n,{\"month_name\":\"January\",\"year\":\"2014\",\"query_count\":\"9\",\"query_text\":\"about me\"}\\n,{\"month_name\":\"January\",\"year\":\"2014\",\"query_count\":\"9\",\"query_text\":\"election commission\"}\\n,{\"month_name\":\"January\",\"year\":\"2014\",\"query_count\":\"9\",\"query_text\":\"davidson county clerk\"}\\n,{\"month_name\":\"January\",\"year\":\"2014\",\"query_count\":\"9\",\"query_text\":\"warrant search\"}\\n,{\"month_name\":\"January\",\"year\":\"2014\",\"query_count\":\"9\",\"query_text\":\"FAR\"}\\n,{\"month_name\":\"January\",\"year\":\"2014\",\"query_count\":\"9\",\"query_text\":\"Animal\"}\\n,{\"month_name\":\"January\",\"year\":\"2014\",\"query_count\":\"9\",\"query_text\":\"property map\"}\\n,{\"month_name\":\"January\",\"year\":\"2014\",\"query_count\":\"9\",\"query_text\":\"building permit\"}\\n,{\"month_name\":\"January\",\"year\":\"2014\",\"query_count\":\"9\",\"query_text\":\"permit bond\"}\\n,{\"month_name\":\"January\",\"year\":\"2014\",\"query_count\":\"9\",\"query_text\":\"prostitution\"}\\n,{\"month_name\":\"January\",\"year\":\"2014\",\"query_count\":\"8\",\"query_text\":\"auctions\"}\\n,{\"month_name\":\"January\",\"year\":\"2014\",\"query_count\":\"8\",\"query_text\":\"crime map\"}\\n,{\"month_name\":\"January\",\"year\":\"2014\",\"query_count\":\"8\",\"query_text\":\"snap program online\"}\\n,{\"month_name\":\"January\",\"year\":\"2014\",\"query_count\":\"8\",\"query_text\":\"online property maps\"}\\n,{\"month_name\":\"January\",\"year\":\"2014\",\"query_count\":\"8\",\"query_text\":\"salvage forms\"}\\n,{\"month_name\":\"January\",\"year\":\"2014\",\"query_count\":\"8\",\"query_text\":\"quick claim deed\"}\\n,{\"month_name\":\"January\",\"year\":\"2014\",\"query_count\":\"8\",\"query_text\":\"job descriptions\"}\\n,{\"month_name\":\"January\",\"year\":\"2014\",\"query_count\":\"8\",\"query_text\":\"industry classification\"}\\n,{\"month_name\":\"January\",\"year\":\"2014\",\"query_count\":\"8\",\"query_text\":\"last will and beneficiaries results\"}\\n,{\"month_name\":\"January\",\"year\":\"2014\",\"query_count\":\"8\",\"query_text\":\"increments\"}\\n,{\"month_name\":\"January\",\"year\":\"2014\",\"query_count\":\"8\",\"query_text\":\"GIS\"}\\n,{\"month_name\":\"January\",\"year\":\"2014\",\"query_count\":\"8\",\"query_text\":\"RFP\"}\\n,{\"month_name\":\"January\",\"year\":\"2014\",\"query_count\":\"8\",\"query_text\":\"Property maps\"}\\n,{\"month_name\":\"January\",\"year\":\"2014\",\"query_count\":\"8\",\"query_text\":\"delayed accident report\"}\\n,{\"month_name\":\"January\",\"year\":\"2014\",\"query_count\":\"8\",\"query_text\":\"2012 pay plan\"}\\n,{\"month_name\":\"January\",\"year\":\"2014\",\"query_count\":\"8\",\"query_text\":\"bank of america\"}\\n,{\"month_name\":\"January\",\"year\":\"2014\",\"query_count\":\"8\",\"query_text\":\"Media release\"}\\n,{\"month_name\":\"January\",\"year\":\"2014\",\"query_count\":\"8\",\"query_text\":\"road improvements project\"}\\n,{\"month_name\":\"January\",\"year\":\"2014\",\"query_count\":\"8\",\"query_text\":\"criminal records\"}\\n,{\"month_name\":\"January\",\"year\":\"2014\",\"query_count\":\"8\",\"query_text\":\"flu shots\"}\\n,{\"month_name\":\"January\",\"year\":\"2014\",\"query_count\":\"8\",\"query_text\":\"Christmas tree\"}\\n,{\"month_name\":\"January\",\"year\":\"2014\",\"query_count\":\"8\",\"query_text\":\"lisa carol hall\"}\\n,{\"month_name\":\"January\",\"year\":\"2014\",\"query_count\":\"8\",\"query_text\":\"nataly lopez\"}\\n,{\"month_name\":\"January\",\"year\":\"2014\",\"query_count\":\"8\",\"query_text\":\"Employment\"}\\n,{\"month_name\":\"January\",\"year\":\"2014\",\"query_count\":\"8\",\"query_text\":\"chancery court\"}\\n,{\"month_name\":\"January\",\"year\":\"2014\",\"query_count\":\"8\",\"query_text\":\"jail\"}\\n,{\"month_name\":\"January\",\"year\":\"2014\",\"query_count\":\"8\",\"query_text\":\"road closures\"}\\n,{\"month_name\":\"January\",\"year\":\"2014\",\"query_count\":\"8\",\"query_text\":\"jobs opening\"}\\n,{\"month_name\":\"January\",\"year\":\"2014\",\"query_count\":\"8\",\"query_text\":\"marriage records\"}\\n,{\"month_name\":\"January\",\"year\":\"2014\",\"query_count\":\"8\",\"query_text\":\"codes department\"}\\n,{\"month_name\":\"January\",\"year\":\"2014\",\"query_count\":\"8\",\"query_text\":\"report accident\"}\\n,{\"month_name\":\"January\",\"year\":\"2014\",\"query_count\":\"8\",\"query_text\":\"public case information\"}\\n,{\"month_name\":\"January\",\"year\":\"2017\",\"query_count\":\"7\",\"query_text\":\"juvenile court\"}\\n,{\"month_name\":\"January\",\"year\":\"2014\",\"query_count\":\"8\",\"query_text\":\"Flu shots\"}\\n,{\"month_name\":\"January\",\"year\":\"2014\",\"query_count\":\"8\",\"query_text\":\"metro 3\"}\\n,{\"month_name\":\"January\",\"year\":\"2014\",\"query_count\":\"8\",\"query_text\":\"company code\"}\\n,{\"month_name\":\"January\",\"year\":\"2014\",\"query_count\":\"8\",\"query_text\":\"isupplier\"}\\n,{\"month_name\":\"January\",\"year\":\"2014\",\"query_count\":\"8\",\"query_text\":\"buzzsaw\"}\\n,{\"month_name\":\"January\",\"year\":\"2014\",\"query_count\":\"8\",\"query_text\":\"accident report form\"}\\n,{\"month_name\":\"January\",\"year\":\"2014\",\"query_count\":\"8\",\"query_text\":\"planning commission\"}\\n,{\"month_name\":\"January\",\"year\":\"2014\",\"query_count\":\"8\",\"query_text\":\"what zone am i in\"}\\n,{\"month_name\":\"January\",\"year\":\"2014\",\"query_count\":\"8\",\"query_text\":\"login\"}\\n,{\"month_name\":\"January\",\"year\":\"2014\",\"query_count\":\"8\",\"query_text\":\"schools\"}\\n,{\"month_name\":\"January\",\"year\":\"2014\",\"query_count\":\"7\",\"query_text\":\"Arrests\"}\\n,{\"month_name\":\"January\",\"year\":\"2014\",\"query_count\":\"7\",\"query_text\":\"chicken\"}\\n,{\"month_name\":\"January\",\"year\":\"2014\",\"query_count\":\"7\",\"query_text\":\"inmate\"}\\n,{\"month_name\":\"January\",\"year\":\"2014\",\"query_count\":\"7\",\"query_text\":\"circuit court\"}\\n,{\"month_name\":\"January\",\"year\":\"2014\",\"query_count\":\"7\",\"query_text\":\"roof architect\"}\\n,{\"month_name\":\"January\",\"year\":\"2014\",\"query_count\":\"7\",\"query_text\":\"Get Covered Nashville\"}\\n,{\"month_name\":\"January\",\"year\":\"2014\",\"query_count\":\"7\",\"query_text\":\"feild training officers\"}\\n,{\"month_name\":\"January\",\"year\":\"2014\",\"query_count\":\"7\",\"query_text\":\"Application for Metro electrical license\"}\\n,{\"month_name\":\"January\",\"year\":\"2014\",\"query_count\":\"7\",\"query_text\":\"www.google.com\"}\\n,{\"month_name\":\"January\",\"year\":\"2014\",\"query_count\":\"7\",\"query_text\":\"birth certificates\"}\\n,{\"month_name\":\"January\",\"year\":\"2014\",\"query_count\":\"7\",\"query_text\":\"population\"}\\n,{\"month_name\":\"January\",\"year\":\"2014\",\"query_count\":\"7\",\"query_text\":\"fingerprinting\"}\\n,{\"month_name\":\"January\",\"year\":\"2014\",\"query_count\":\"7\",\"query_text\":\"rosa parks boulevard\"}\\n,{\"month_name\":\"January\",\"year\":\"2014\",\"query_count\":\"7\",\"query_text\":\"metro clerk\"}\\n,{\"month_name\":\"January\",\"year\":\"2014\",\"query_count\":\"7\",\"query_text\":\"noise complaint\"}\\n,{\"month_name\":\"January\",\"year\":\"2014\",\"query_count\":\"7\",\"query_text\":\"Lakeside Cove\"}\\n,{\"month_name\":\"January\",\"year\":\"2014\",\"query_count\":\"7\",\"query_text\":\"criminal\"}\\n,{\"month_name\":\"January\",\"year\":\"2014\",\"query_count\":\"7\",\"query_text\":\"police training academy\"}\\n,{\"month_name\":\"January\",\"year\":\"2014\",\"query_count\":\"7\",\"query_text\":\"recent arrest records\"}\\n,{\"month_name\":\"January\",\"year\":\"2014\",\"query_count\":\"7\",\"query_text\":\"east Nashville ,tn 37207\"}\\n,{\"month_name\":\"January\",\"year\":\"2014\",\"query_count\":\"7\",\"query_text\":\"wrecker\"}\\n,{\"month_name\":\"January\",\"year\":\"2014\",\"query_count\":\"7\",\"query_text\":\"alarm permit\"}\\n,{\"month_name\":\"January\",\"year\":\"2014\",\"query_count\":\"7\",\"query_text\":\"20th\"}\\n,{\"month_name\":\"January\",\"year\":\"2014\",\"query_count\":\"7\",\"query_text\":\"dog ordinance\"}\\n,{\"month_name\":\"January\",\"year\":\"2014\",\"query_count\":\"7\",\"query_text\":\"construction notification ordinance\"}\\n,{\"month_name\":\"January\",\"year\":\"2014\",\"query_count\":\"7\",\"query_text\":\"tennis\"}\\n,{\"month_name\":\"January\",\"year\":\"2014\",\"query_count\":\"7\",\"query_text\":\"special event permit\"}\\n,{\"month_name\":\"January\",\"year\":\"2014\",\"query_count\":\"7\",\"query_text\":\"urban zoning overlay\"}\\n,{\"month_name\":\"January\",\"year\":\"2014\",\"query_count\":\"7\",\"query_text\":\"Accident report\"}\\n,{\"month_name\":\"January\",\"year\":\"2014\",\"query_count\":\"7\",\"query_text\":\"recycle\"}\\n,{\"month_name\":\"January\",\"year\":\"2014\",\"query_count\":\"7\",\"query_text\":\"career\"}\\n,{\"month_name\":\"January\",\"year\":\"2014\",\"query_count\":\"7\",\"query_text\":\"community centers\"}\\n,{\"month_name\":\"January\",\"year\":\"2014\",\"query_count\":\"7\",\"query_text\":\"probate\"}\\n,{\"month_name\":\"January\",\"year\":\"2014\",\"query_count\":\"7\",\"query_text\":\"easements, gateway pedestrian bridge\"}\\n,{\"month_name\":\"January\",\"year\":\"2014\",\"query_count\":\"7\",\"query_text\":\"tax records\"}\\n,{\"month_name\":\"January\",\"year\":\"2014\",\"query_count\":\"7\",\"query_text\":\"benefit board\"}\\n,{\"month_name\":\"January\",\"year\":\"2014\",\"query_count\":\"7\",\"query_text\":\"nashville most wanted\"}\\n,{\"month_name\":\"January\",\"year\":\"2014\",\"query_count\":\"7\",\"query_text\":\"inside metro website address\"}\\n,{\"month_name\":\"January\",\"year\":\"2014\",\"query_count\":\"7\",\"query_text\":\"shown mcclanahan\"}\\n,{\"month_name\":\"January\",\"year\":\"2014\",\"query_count\":\"7\",\"query_text\":\"christmas tree\"}\\n,{\"month_name\":\"January\",\"year\":\"2014\",\"query_count\":\"7\",\"query_text\":\"utility construction\"}\\n,{\"month_name\":\"January\",\"year\":\"2014\",\"query_count\":\"7\",\"query_text\":\"charter for residency for Metro employees\"}\\n,{\"month_name\":\"January\",\"year\":\"2014\",\"query_count\":\"7\",\"query_text\":\"james duncan\"}\\n,{\"month_name\":\"January\",\"year\":\"2014\",\"query_count\":\"7\",\"query_text\":\"mapping gis\"}\\n,{\"month_name\":\"January\",\"year\":\"2014\",\"query_count\":\"7\",\"query_text\":\"contract bids\"}\\n,{\"month_name\":\"January\",\"year\":\"2014\",\"query_count\":\"7\",\"query_text\":\"city of brentwood\"}\\n,{\"month_name\":\"January\",\"year\":\"2014\",\"query_count\":\"7\",\"query_text\":\"news channel 5\"}\\n,{\"month_name\":\"January\",\"year\":\"2014\",\"query_count\":\"7\",\"query_text\":\"public schools\"}\\n,{\"month_name\":\"January\",\"year\":\"2014\",\"query_count\":\"7\",\"query_text\":\"public arrest records\"}\\n,{\"month_name\":\"January\",\"year\":\"2014\",\"query_count\":\"7\",\"query_text\":\"court clerk\"}\\n,{\"month_name\":\"January\",\"year\":\"2014\",\"query_count\":\"7\",\"query_text\":\"whooping cough\"}\\n,{\"month_name\":\"January\",\"year\":\"2014\",\"query_count\":\"7\",\"query_text\":\"property limes\"}\\n,{\"month_name\":\"January\",\"year\":\"2014\",\"query_count\":\"7\",\"query_text\":\"ebid nashville\"}\\n,{\"month_name\":\"January\",\"year\":\"2014\",\"query_count\":\"7\",\"query_text\":\"Basketball goals\"}\\n,{\"month_name\":\"January\",\"year\":\"2014\",\"query_count\":\"7\",\"query_text\":\"Alan espinoza\"}\\n,{\"month_name\":\"January\",\"year\":\"2014\",\"query_count\":\"7\",\"query_text\":\"civil service commission\"}\\n,{\"month_name\":\"January\",\"year\":\"2014\",\"query_count\":\"7\",\"query_text\":\"child support\"}\\n,{\"month_name\":\"January\",\"year\":\"2014\",\"query_count\":\"7\",\"query_text\":\"sheriff\\'s department\"}\\n,{\"month_name\":\"January\",\"year\":\"2014\",\"query_count\":\"7\",\"query_text\":\"ccc\"}\\n,{\"month_name\":\"January\",\"year\":\"2014\",\"query_count\":\"7\",\"query_text\":\"proprietary insurance companies\"}\\n,{\"month_name\":\"January\",\"year\":\"2014\",\"query_count\":\"7\",\"query_text\":\"deeds\"}\\n,{\"month_name\":\"January\",\"year\":\"2014\",\"query_count\":\"7\",\"query_text\":\"signs\"}\\n,{\"month_name\":\"January\",\"year\":\"2014\",\"query_count\":\"7\",\"query_text\":\"building permit fees\"}\\n,{\"month_name\":\"January\",\"year\":\"2014\",\"query_count\":\"7\",\"query_text\":\"custodian application\"}\\n,{\"month_name\":\"January\",\"year\":\"2014\",\"query_count\":\"7\",\"query_text\":\"drivers license\"}\\n,{\"month_name\":\"January\",\"year\":\"2014\",\"query_count\":\"7\",\"query_text\":\"flood\"}\\n,{\"month_name\":\"January\",\"year\":\"2014\",\"query_count\":\"7\",\"query_text\":\"dental\"}\\n,{\"month_name\":\"January\",\"year\":\"2014\",\"query_count\":\"7\",\"query_text\":\"noise ordinance\"}\\n,{\"month_name\":\"January\",\"year\":\"2014\",\"query_count\":\"7\",\"query_text\":\"employee directory\"}\\n,{\"month_name\":\"January\",\"year\":\"2014\",\"query_count\":\"7\",\"query_text\":\"SMWBE Form\"}\\n,{\"month_name\":\"January\",\"year\":\"2014\",\"query_count\":\"7\",\"query_text\":\"PROPERTY TAX\"}\\n,{\"month_name\":\"January\",\"year\":\"2014\",\"query_count\":\"6\",\"query_text\":\"emergency management\"}\\n,{\"month_name\":\"January\",\"year\":\"2014\",\"query_count\":\"6\",\"query_text\":\"contractors License bond form\"}\\n,{\"month_name\":\"January\",\"year\":\"2014\",\"query_count\":\"6\",\"query_text\":\"trash pickup\"}\\n,{\"month_name\":\"January\",\"year\":\"2014\",\"query_count\":\"6\",\"query_text\":\"surplus auction\"}\\n,{\"month_name\":\"January\",\"year\":\"2014\",\"query_count\":\"6\",\"query_text\":\"pedestrian benefit zone\"}\\n,{\"month_name\":\"January\",\"year\":\"2014\",\"query_count\":\"6\",\"query_text\":\"hiring jobs\"}\\n,{\"month_name\":\"January\",\"year\":\"2014\",\"query_count\":\"6\",\"query_text\":\"tax\"}\\n,{\"month_name\":\"January\",\"year\":\"2014\",\"query_count\":\"6\",\"query_text\":\"agricultural zoning\"}\\n,{\"month_name\":\"January\",\"year\":\"2014\",\"query_count\":\"6\",\"query_text\":\"WEB PRO\"}\\n,{\"month_name\":\"January\",\"year\":\"2014\",\"query_count\":\"6\",\"query_text\":\"metro parks\"}\\n,{\"month_name\":\"January\",\"year\":\"2014\",\"query_count\":\"6\",\"query_text\":\"shelby street pedestrian bridge\"}\\n,{\"month_name\":\"January\",\"year\":\"2014\",\"query_count\":\"6\",\"query_text\":\"chaplain\"}\\n,{\"month_name\":\"January\",\"year\":\"2014\",\"query_count\":\"6\",\"query_text\":\"immigrant community assessment\"}\\n,{\"month_name\":\"January\",\"year\":\"2014\",\"query_count\":\"6\",\"query_text\":\"2014 crime reports\"}\\n,{\"month_name\":\"January\",\"year\":\"2014\",\"query_count\":\"6\",\"query_text\":\"trash\"}\\n,{\"month_name\":\"January\",\"year\":\"2014\",\"query_count\":\"6\",\"query_text\":\"Permit\"}\\n,{\"month_name\":\"January\",\"year\":\"2014\",\"query_count\":\"6\",\"query_text\":\"counterfit money\"}\\n,{\"month_name\":\"January\",\"year\":\"2014\",\"query_count\":\"6\",\"query_text\":\"waiver to work in metropolitan government\"}\\n,{\"month_name\":\"January\",\"year\":\"2014\",\"query_count\":\"6\",\"query_text\":\"drug bust\"}\\n,{\"month_name\":\"January\",\"year\":\"2014\",\"query_count\":\"6\",\"query_text\":\"property owner\"}\\n,{\"month_name\":\"January\",\"year\":\"2014\",\"query_count\":\"6\",\"query_text\":\"traffic and parking commission 2013 speed limit\"}\\n,{\"month_name\":\"January\",\"year\":\"2014\",\"query_count\":\"6\",\"query_text\":\"Food Vendor license\"}\\n,{\"month_name\":\"January\",\"year\":\"2014\",\"query_count\":\"6\",\"query_text\":\"shawn mcclanahan\"}\\n,{\"month_name\":\"January\",\"year\":\"2014\",\"query_count\":\"6\",\"query_text\":\"unemployment\"}\\n,{\"month_name\":\"January\",\"year\":\"2014\",\"query_count\":\"6\",\"query_text\":\"metropolitan action commission\"}\\n,{\"month_name\":\"January\",\"year\":\"2014\",\"query_count\":\"6\",\"query_text\":\"zoning map\\\\\\\\\"}\\n,{\"month_name\":\"January\",\"year\":\"2014\",\"query_count\":\"6\",\"query_text\":\"parks and recreation\"}\\n,{\"month_name\":\"January\",\"year\":\"2014\",\"query_count\":\"6\",\"query_text\":\"property search\"}\\n,{\"month_name\":\"January\",\"year\":\"2014\",\"query_count\":\"6\",\"query_text\":\"TREE\"}\\n,{\"month_name\":\"January\",\"year\":\"2014\",\"query_count\":\"6\",\"query_text\":\"intergovernmental agreement city of brentwood\"}\\n,{\"month_name\":\"January\",\"year\":\"2014\",\"query_count\":\"6\",\"query_text\":\"drink up nashville project\"}\\n,{\"month_name\":\"January\",\"year\":\"2014\",\"query_count\":\"6\",\"query_text\":\"Food vendor\"}\\n,{\"month_name\":\"January\",\"year\":\"2014\",\"query_count\":\"6\",\"query_text\":\"metro police department\"}\\n,{\"month_name\":\"January\",\"year\":\"2014\",\"query_count\":\"6\",\"query_text\":\"surveillance camera\"}\\n,{\"month_name\":\"January\",\"year\":\"2014\",\"query_count\":\"6\",\"query_text\":\"Debbie Miller Phillips\"}\\n,{\"month_name\":\"January\",\"year\":\"2014\",\"query_count\":\"6\",\"query_text\":\"charles wesley tomlin\"}\\n,{\"month_name\":\"January\",\"year\":\"2014\",\"query_count\":\"6\",\"query_text\":\"construction and demolition recycling facility\"}\\n,{\"month_name\":\"January\",\"year\":\"2014\",\"query_count\":\"6\",\"query_text\":\"Criminal records\"}\\n,{\"month_name\":\"January\",\"year\":\"2014\",\"query_count\":\"6\",\"query_text\":\"wedgewood-houston\"}\\n,{\"month_name\":\"January\",\"year\":\"2014\",\"query_count\":\"6\",\"query_text\":\"setback\"}\\n,{\"month_name\":\"January\",\"year\":\"2014\",\"query_count\":\"6\",\"query_text\":\"u\"}\\n,{\"month_name\":\"January\",\"year\":\"2014\",\"query_count\":\"6\",\"query_text\":\"fire department annual report\"}\\n,{\"month_name\":\"January\",\"year\":\"2014\",\"query_count\":\"6\",\"query_text\":\"skyline photo contest\"}\\n,{\"month_name\":\"January\",\"year\":\"2014\",\"query_count\":\"6\",\"query_text\":\"VERONICA  FRAZIER\"}\\n,{\"month_name\":\"January\",\"year\":\"2014\",\"query_count\":\"6\",\"query_text\":\"active warrant\"}\\n,{\"month_name\":\"January\",\"year\":\"2014\",\"query_count\":\"6\",\"query_text\":\"sounds\"}\\n,{\"month_name\":\"January\",\"year\":\"2014\",\"query_count\":\"6\",\"query_text\":\"arrest list\"}\\n,{\"month_name\":\"January\",\"year\":\"2014\",\"query_count\":\"6\",\"query_text\":\"ashton park\"}\\n,{\"month_name\":\"January\",\"year\":\"2014\",\"query_count\":\"6\",\"query_text\":\"time sheet\"}\\n,{\"month_name\":\"January\",\"year\":\"2014\",\"query_count\":\"6\",\"query_text\":\"transportation\"}\\n,{\"month_name\":\"March\",\"year\":\"2014\",\"query_count\":\"16\",\"query_text\":\"mdha\"}\\n,{\"month_name\":\"January\",\"year\":\"2014\",\"query_count\":\"6\",\"query_text\":\"Fire Code Violation Fines\"}\\n,{\"month_name\":\"January\",\"year\":\"2014\",\"query_count\":\"6\",\"query_text\":\"thomas russell\"}\\n,{\"month_name\":\"January\",\"year\":\"2014\",\"query_count\":\"6\",\"query_text\":\"utilities\"}\\n,{\"month_name\":\"January\",\"year\":\"2014\",\"query_count\":\"6\",\"query_text\":\"property description\"}\\n,{\"month_name\":\"January\",\"year\":\"2014\",\"query_count\":\"6\",\"query_text\":\"interactive map\"}\\n,{\"month_name\":\"January\",\"year\":\"2014\",\"query_count\":\"6\",\"query_text\":\"childcare\"}\\n,{\"month_name\":\"January\",\"year\":\"2014\",\"query_count\":\"6\",\"query_text\":\"sprinkler adjustment\"}\\n,{\"month_name\":\"January\",\"year\":\"2014\",\"query_count\":\"6\",\"query_text\":\"Criminal court clerk\"}\\n,{\"month_name\":\"January\",\"year\":\"2014\",\"query_count\":\"6\",\"query_text\":\"paystubs\"}\\n,{\"month_name\":\"January\",\"year\":\"2014\",\"query_count\":\"6\",\"query_text\":\"construction notice ordinance\"}\\n,{\"month_name\":\"January\",\"year\":\"2014\",\"query_count\":\"6\",\"query_text\":\"council term limits\"}\\n,{\"month_name\":\"January\",\"year\":\"2014\",\"query_count\":\"6\",\"query_text\":\"metro police\"}\\n,{\"month_name\":\"January\",\"year\":\"2014\",\"query_count\":\"6\",\"query_text\":\"dmv\"}\\n,{\"month_name\":\"January\",\"year\":\"2014\",\"query_count\":\"6\",\"query_text\":\"community center\"}\\n,{\"month_name\":\"January\",\"year\":\"2014\",\"query_count\":\"6\",\"query_text\":\"E permits\"}\\n,{\"month_name\":\"January\",\"year\":\"2014\",\"query_count\":\"6\",\"query_text\":\"sheriff\"}\\n,{\"month_name\":\"January\",\"year\":\"2014\",\"query_count\":\"6\",\"query_text\":\"road delays\"}\\n,{\"month_name\":\"January\",\"year\":\"2014\",\"query_count\":\"6\",\"query_text\":\"field training officers\"}\\n,{\"month_name\":\"January\",\"year\":\"2014\",\"query_count\":\"6\",\"query_text\":\"phone number\"}\\n,{\"month_name\":\"January\",\"year\":\"2014\",\"query_count\":\"6\",\"query_text\":\"subdivision regulations\"}\\n,{\"month_name\":\"January\",\"year\":\"2014\",\"query_count\":\"6\",\"query_text\":\"Web pro\"}\\n,{\"month_name\":\"January\",\"year\":\"2014\",\"query_count\":\"6\",\"query_text\":\"BAO\"}\\n,{\"month_name\":\"January\",\"year\":\"2014\",\"query_count\":\"6\",\"query_text\":\"pet food contract\"}\\n,{\"month_name\":\"January\",\"year\":\"2014\",\"query_count\":\"6\",\"query_text\":\"noise\"}\\n,{\"month_name\":\"January\",\"year\":\"2014\",\"query_count\":\"6\",\"query_text\":\"bills introduction by Ron Nollner\"}\\n,{\"month_name\":\"January\",\"year\":\"2014\",\"query_count\":\"6\",\"query_text\":\"divorce records\"}\\n,{\"month_name\":\"January\",\"year\":\"2014\",\"query_count\":\"6\",\"query_text\":\"Mugshots\"}\\n,{\"month_name\":\"January\",\"year\":\"2014\",\"query_count\":\"6\",\"query_text\":\"land use table\"}\\n,{\"month_name\":\"January\",\"year\":\"2014\",\"query_count\":\"6\",\"query_text\":\"castleman drive\"}\\n,{\"month_name\":\"January\",\"year\":\"2014\",\"query_count\":\"6\",\"query_text\":\"demographics\"}\\n,{\"month_name\":\"January\",\"year\":\"2014\",\"query_count\":\"6\",\"query_text\":\"street closures\"}\\n,{\"month_name\":\"January\",\"year\":\"2014\",\"query_count\":\"6\",\"query_text\":\"e permits\"}\\n,{\"month_name\":\"January\",\"year\":\"2014\",\"query_count\":\"6\",\"query_text\":\"MDHA redevelopment districts\"}\\n,{\"month_name\":\"January\",\"year\":\"2014\",\"query_count\":\"6\",\"query_text\":\"special events\"}\\n,{\"month_name\":\"January\",\"year\":\"2014\",\"query_count\":\"6\",\"query_text\":\"unemployment benefits\"}\\n,{\"month_name\":\"January\",\"year\":\"2014\",\"query_count\":\"6\",\"query_text\":\"Inmate search\"}\\n,{\"month_name\":\"January\",\"year\":\"2014\",\"query_count\":\"6\",\"query_text\":\"ballpark\"}\\n,{\"month_name\":\"January\",\"year\":\"2014\",\"query_count\":\"6\",\"query_text\":\"music city center\"}\\n,{\"month_name\":\"January\",\"year\":\"2014\",\"query_count\":\"6\",\"query_text\":\"james robertson parkway\"}\\n,{\"month_name\":\"January\",\"year\":\"2014\",\"query_count\":\"6\",\"query_text\":\"central wastewater treatment plant\"}\\n,{\"month_name\":\"January\",\"year\":\"2014\",\"query_count\":\"6\",\"query_text\":\"archive\"}\\n,{\"month_name\":\"January\",\"year\":\"2014\",\"query_count\":\"6\",\"query_text\":\"parking spaces\"}\\n,{\"month_name\":\"January\",\"year\":\"2014\",\"query_count\":\"6\",\"query_text\":\"Active inmates\"}\\n,{\"month_name\":\"January\",\"year\":\"2014\",\"query_count\":\"6\",\"query_text\":\"BL2014-653\"}\\n,{\"month_name\":\"January\",\"year\":\"2014\",\"query_count\":\"6\",\"query_text\":\"w2\"}\\n,{\"month_name\":\"January\",\"year\":\"2014\",\"query_count\":\"6\",\"query_text\":\"Crime\"}\\n,{\"month_name\":\"January\",\"year\":\"2014\",\"query_count\":\"6\",\"query_text\":\"traffic signal study\"}\\n,{\"month_name\":\"January\",\"year\":\"2014\",\"query_count\":\"6\",\"query_text\":\"storm water\"}\\n,{\"month_name\":\"January\",\"year\":\"2014\",\"query_count\":\"6\",\"query_text\":\"Codes administration\"}\\n,{\"month_name\":\"January\",\"year\":\"2014\",\"query_count\":\"6\",\"query_text\":\"ing\"}\\n,{\"month_name\":\"January\",\"year\":\"2014\",\"query_count\":\"6\",\"query_text\":\"robert kelley\"}\\n,{\"month_name\":\"January\",\"year\":\"2014\",\"query_count\":\"6\",\"query_text\":\"restaurant inspection reports\"}\\n,{\"month_name\":\"January\",\"year\":\"2014\",\"query_count\":\"6\",\"query_text\":\"employee discount programs\"}\\n,{\"month_name\":\"January\",\"year\":\"2014\",\"query_count\":\"6\",\"query_text\":\"taxes\"}\\n,{\"month_name\":\"January\",\"year\":\"2014\",\"query_count\":\"6\",\"query_text\":\"daily arrest\"}\\n,{\"month_name\":\"January\",\"year\":\"2014\",\"query_count\":\"6\",\"query_text\":\"parking ordinance\"}\\n,{\"month_name\":\"January\",\"year\":\"2014\",\"query_count\":\"6\",\"query_text\":\"madison precinct\"}\\n,{\"month_name\":\"January\",\"year\":\"2014\",\"query_count\":\"6\",\"query_text\":\"traffic and parking commission meetings\"}\\n,{\"month_name\":\"January\",\"year\":\"2014\",\"query_count\":\"6\",\"query_text\":\"animal\"}\\n,{\"month_name\":\"January\",\"year\":\"2014\",\"query_count\":\"6\",\"query_text\":\"fiber optic design standards\"}\\n,{\"month_name\":\"January\",\"year\":\"2014\",\"query_count\":\"6\",\"query_text\":\"most wanted\"}\\n,{\"month_name\":\"January\",\"year\":\"2014\",\"query_count\":\"6\",\"query_text\":\"Encroachments in roadway\"}\\n,{\"month_name\":\"January\",\"year\":\"2014\",\"query_count\":\"6\",\"query_text\":\"tracy buck\"}\\n,{\"month_name\":\"January\",\"year\":\"2014\",\"query_count\":\"6\",\"query_text\":\"archives newspapers Nashville tn\"}\\n,{\"month_name\":\"January\",\"year\":\"2014\",\"query_count\":\"6\",\"query_text\":\"stormwater fee\"}\\n,{\"month_name\":\"January\",\"year\":\"2014\",\"query_count\":\"6\",\"query_text\":\"pay property taxes\"}\\n,{\"month_name\":\"January\",\"year\":\"2014\",\"query_count\":\"6\",\"query_text\":\"use and occupancy permit\"}\\n,{\"month_name\":\"January\",\"year\":\"2014\",\"query_count\":\"6\",\"query_text\":\"TB Program Director\"}\\n,{\"month_name\":\"January\",\"year\":\"2014\",\"query_count\":\"6\",\"query_text\":\"english only\"}\\n,{\"month_name\":\"January\",\"year\":\"2014\",\"query_count\":\"6\",\"query_text\":\"solicitation\"}\\n,{\"month_name\":\"January\",\"year\":\"2014\",\"query_count\":\"6\",\"query_text\":\"metro charter\"}\\n,{\"month_name\":\"January\",\"year\":\"2014\",\"query_count\":\"6\",\"query_text\":\"r-20 zoning\"}\\n,{\"month_name\":\"January\",\"year\":\"2014\",\"query_count\":\"6\",\"query_text\":\"bond form\"}\\n,{\"month_name\":\"January\",\"year\":\"2014\",\"query_count\":\"6\",\"query_text\":\"EASEMENT FOR PIN HOOK RD\"}\\n,{\"month_name\":\"January\",\"year\":\"2014\",\"query_count\":\"6\",\"query_text\":\"cocaine\"}\\n,{\"month_name\":\"January\",\"year\":\"2014\",\"query_count\":\"6\",\"query_text\":\"Adult education\"}\\n,{\"month_name\":\"January\",\"year\":\"2014\",\"query_count\":\"5\",\"query_text\":\"copy of police report\"}\\n,{\"month_name\":\"January\",\"year\":\"2014\",\"query_count\":\"5\",\"query_text\":\"green infrastructure\"}\\n,{\"month_name\":\"January\",\"year\":\"2014\",\"query_count\":\"5\",\"query_text\":\"spay/neuter assistance program\"}\\n,{\"month_name\":\"January\",\"year\":\"2014\",\"query_count\":\"5\",\"query_text\":\"standby note fee\"}\\n,{\"month_name\":\"January\",\"year\":\"2014\",\"query_count\":\"5\",\"query_text\":\"sidewalks\"}\\n,{\"month_name\":\"January\",\"year\":\"2014\",\"query_count\":\"5\",\"query_text\":\"fec\"}\\n,{\"month_name\":\"January\",\"year\":\"2014\",\"query_count\":\"5\",\"query_text\":\"office hours\"}\\n,{\"month_name\":\"January\",\"year\":\"2014\",\"query_count\":\"5\",\"query_text\":\"newsletter\"}\\n,{\"month_name\":\"January\",\"year\":\"2014\",\"query_count\":\"5\",\"query_text\":\"ordinance no. bl2009-586\"}\\n,{\"month_name\":\"January\",\"year\":\"2014\",\"query_count\":\"5\",\"query_text\":\"file accident report\"}\\n,{\"month_name\":\"January\",\"year\":\"2014\",\"query_count\":\"5\",\"query_text\":\"demolition permit\"}\\n,{\"month_name\":\"January\",\"year\":\"2014\",\"query_count\":\"5\",\"query_text\":\"dump\"}\\n,{\"month_name\":\"January\",\"year\":\"2014\",\"query_count\":\"5\",\"query_text\":\"tillman\"}\\n,{\"month_name\":\"January\",\"year\":\"2014\",\"query_count\":\"5\",\"query_text\":\"amazon.com\"}\\n,{\"month_name\":\"January\",\"year\":\"2014\",\"query_count\":\"5\",\"query_text\":\"Occupancy tax\"}\\n,{\"month_name\":\"January\",\"year\":\"2014\",\"query_count\":\"5\",\"query_text\":\"robert william kelly\"}\\n,{\"month_name\":\"January\",\"year\":\"2014\",\"query_count\":\"5\",\"query_text\":\"necat\"}\\n,{\"month_name\":\"January\",\"year\":\"2014\",\"query_count\":\"5\",\"query_text\":\"Auction\"}\\n,{\"month_name\":\"January\",\"year\":\"2014\",\"query_count\":\"5\",\"query_text\":\"Lisa Howe\"}\\n,{\"month_name\":\"January\",\"year\":\"2014\",\"query_count\":\"5\",\"query_text\":\"rezoning\"}\\n,{\"month_name\":\"January\",\"year\":\"2014\",\"query_count\":\"5\",\"query_text\":\"Pay Plan 2014\"}\\n,{\"month_name\":\"January\",\"year\":\"2014\",\"query_count\":\"5\",\"query_text\":\"flood buyout audit\"}\\n,{\"month_name\":\"January\",\"year\":\"2014\",\"query_count\":\"5\",\"query_text\":\"trash collection\"}\\n,{\"month_name\":\"January\",\"year\":\"2014\",\"query_count\":\"5\",\"query_text\":\"Tax Relief/Exemptions\"}\\n,{\"month_name\":\"January\",\"year\":\"2014\",\"query_count\":\"5\",\"query_text\":\"harrison bay\"}\\n,{\"month_name\":\"January\",\"year\":\"2014\",\"query_count\":\"5\",\"query_text\":\"FESSLERS LANE\"}\\n,{\"month_name\":\"January\",\"year\":\"2014\",\"query_count\":\"5\",\"query_text\":\"childcare listing\"}\\n,{\"month_name\":\"January\",\"year\":\"2014\",\"query_count\":\"5\",\"query_text\":\"juvenile detention\"}\\n,{\"month_name\":\"January\",\"year\":\"2014\",\"query_count\":\"5\",\"query_text\":\"benefit self service\"}\\n,{\"month_name\":\"January\",\"year\":\"2014\",\"query_count\":\"5\",\"query_text\":\"job lists\"}\\n,{\"month_name\":\"January\",\"year\":\"2014\",\"query_count\":\"5\",\"query_text\":\"phillips jackson redevelopment district\"}\\n,{\"month_name\":\"January\",\"year\":\"2014\",\"query_count\":\"5\",\"query_text\":\"east precinct\"}\\n,{\"month_name\":\"January\",\"year\":\"2014\",\"query_count\":\"5\",\"query_text\":\"fence setback requirements\"}\\n,{\"month_name\":\"January\",\"year\":\"2014\",\"query_count\":\"5\",\"query_text\":\"plumbing license\"}\\n,{\"month_name\":\"January\",\"year\":\"2014\",\"query_count\":\"5\",\"query_text\":\"ebid auction\"}\\n,{\"month_name\":\"January\",\"year\":\"2014\",\"query_count\":\"5\",\"query_text\":\"JAIL\"}\\n,{\"month_name\":\"January\",\"year\":\"2014\",\"query_count\":\"5\",\"query_text\":\"auto accident report\"}\\n,{\"month_name\":\"January\",\"year\":\"2014\",\"query_count\":\"5\",\"query_text\":\"income eligibility\"}\\n,{\"month_name\":\"January\",\"year\":\"2014\",\"query_count\":\"5\",\"query_text\":\"vpn\"}\\n,{\"month_name\":\"January\",\"year\":\"2014\",\"query_count\":\"5\",\"query_text\":\"electrical permits\"}\\n,{\"month_name\":\"February\",\"year\":\"2014\",\"query_count\":\"298\",\"query_text\":\"ebid\"}\\n,{\"month_name\":\"February\",\"year\":\"2014\",\"query_count\":\"185\",\"query_text\":\"property taxes\"}\\n,{\"month_name\":\"February\",\"year\":\"2014\",\"query_count\":\"140\",\"query_text\":\"maps\"}\\n,{\"month_name\":\"February\",\"year\":\"2014\",\"query_count\":\"140\",\"query_text\":\"property maps\"}\\n,{\"month_name\":\"February\",\"year\":\"2014\",\"query_count\":\"134\",\"query_text\":\"jobs\"}\\n,{\"month_name\":\"February\",\"year\":\"2014\",\"query_count\":\"124\",\"query_text\":\"property tax\"}\\n,{\"month_name\":\"February\",\"year\":\"2014\",\"query_count\":\"114\",\"query_text\":\"employment\"}\\n,{\"month_name\":\"February\",\"year\":\"2014\",\"query_count\":\"112\",\"query_text\":\"media releases\"}\\n,{\"month_name\":\"February\",\"year\":\"2014\",\"query_count\":\"106\",\"query_text\":\"criminal court clerk\"}\\n,{\"month_name\":\"February\",\"year\":\"2014\",\"query_count\":\"105\",\"query_text\":\"police\"}\\n,{\"month_name\":\"February\",\"year\":\"2014\",\"query_count\":\"75\",\"query_text\":\"codes\"}\\n,{\"month_name\":\"February\",\"year\":\"2014\",\"query_count\":\"67\",\"query_text\":\"zoning\"}\\n,{\"month_name\":\"February\",\"year\":\"2014\",\"query_count\":\"66\",\"query_text\":\"human resources\"}\\n,{\"month_name\":\"February\",\"year\":\"2014\",\"query_count\":\"64\",\"query_text\":\"water\"}\\n,{\"month_name\":\"February\",\"year\":\"2014\",\"query_count\":\"63\",\"query_text\":\"animal control\"}\\n,{\"month_name\":\"February\",\"year\":\"2014\",\"query_count\":\"62\",\"query_text\":\"property assessor\"}\\n,{\"month_name\":\"February\",\"year\":\"2014\",\"query_count\":\"59\",\"query_text\":\"media release\"}\\n,{\"month_name\":\"February\",\"year\":\"2014\",\"query_count\":\"57\",\"query_text\":\"trustee\"}\\n,{\"month_name\":\"February\",\"year\":\"2014\",\"query_count\":\"54\",\"query_text\":\"inmate search\"}\\n,{\"month_name\":\"February\",\"year\":\"2014\",\"query_count\":\"51\",\"query_text\":\"employee self service\"}\\n,{\"month_name\":\"February\",\"year\":\"2014\",\"query_count\":\"50\",\"query_text\":\"pay property taxes\"}\\n,{\"month_name\":\"February\",\"year\":\"2014\",\"query_count\":\"48\",\"query_text\":\"Ebid\"}\\n,{\"month_name\":\"February\",\"year\":\"2014\",\"query_count\":\"47\",\"query_text\":\"metro water\"}\\n,{\"month_name\":\"February\",\"year\":\"2014\",\"query_count\":\"47\",\"query_text\":\"arrest records\"}\\n,{\"month_name\":\"February\",\"year\":\"2014\",\"query_count\":\"46\",\"query_text\":\"warrants\"}\\n,{\"month_name\":\"February\",\"year\":\"2014\",\"query_count\":\"46\",\"query_text\":\"ess\"}\\n,{\"month_name\":\"February\",\"year\":\"2014\",\"query_count\":\"45\",\"query_text\":\"public works\"}\\n,{\"month_name\":\"February\",\"year\":\"2014\",\"query_count\":\"44\",\"query_text\":\"criminal court\"}\\n,{\"month_name\":\"February\",\"year\":\"2014\",\"query_count\":\"41\",\"query_text\":\"register of deeds\"}\\n,{\"month_name\":\"February\",\"year\":\"2014\",\"query_count\":\"40\",\"query_text\":\"accident report\"}\\n,{\"month_name\":\"February\",\"year\":\"2014\",\"query_count\":\"40\",\"query_text\":\"business license\"}\\n,{\"month_name\":\"February\",\"year\":\"2014\",\"query_count\":\"39\",\"query_text\":\"planning\"}\\n,{\"month_name\":\"February\",\"year\":\"2014\",\"query_count\":\"39\",\"query_text\":\"tax assessor\"}\\n,{\"month_name\":\"February\",\"year\":\"2014\",\"query_count\":\"39\",\"query_text\":\"Media releases\"}\\n,{\"month_name\":\"February\",\"year\":\"2014\",\"query_count\":\"38\",\"query_text\":\"permits\"}\\n,{\"month_name\":\"February\",\"year\":\"2014\",\"query_count\":\"38\",\"query_text\":\"child support\"}\\n,{\"month_name\":\"February\",\"year\":\"2014\",\"query_count\":\"38\",\"query_text\":\"civil service rules\"}\\n,{\"month_name\":\"February\",\"year\":\"2014\",\"query_count\":\"37\",\"query_text\":\"assessor\"}\\n,{\"month_name\":\"February\",\"year\":\"2014\",\"query_count\":\"36\",\"query_text\":\"traffic\"}\\n,{\"month_name\":\"February\",\"year\":\"2014\",\"query_count\":\"34\",\"query_text\":\"tag renewal\"}\\n,{\"month_name\":\"February\",\"year\":\"2014\",\"query_count\":\"34\",\"query_text\":\"google\"}\\n,{\"month_name\":\"February\",\"year\":\"2014\",\"query_count\":\"34\",\"query_text\":\"im\"}\\n,{\"month_name\":\"February\",\"year\":\"2014\",\"query_count\":\"34\",\"query_text\":\"mugshots\"}\\n,{\"month_name\":\"February\",\"year\":\"2014\",\"query_count\":\"34\",\"query_text\":\"police department\"}\\n,{\"month_name\":\"February\",\"year\":\"2014\",\"query_count\":\"33\",\"query_text\":\"property\"}\\n,{\"month_name\":\"February\",\"year\":\"2014\",\"query_count\":\"32\",\"query_text\":\"public health regulatory programs\"}\\n,{\"month_name\":\"February\",\"year\":\"2014\",\"query_count\":\"31\",\"query_text\":\"gis\"}\\n,{\"month_name\":\"February\",\"year\":\"2014\",\"query_count\":\"31\",\"query_text\":\"inside metro\"}\\n,{\"month_name\":\"February\",\"year\":\"2014\",\"query_count\":\"30\",\"query_text\":\"county clerk\"}\\n,{\"month_name\":\"February\",\"year\":\"2014\",\"query_count\":\"30\",\"query_text\":\"auction\"}\\n,{\"month_name\":\"February\",\"year\":\"2014\",\"query_count\":\"30\",\"query_text\":\"impound auction\"}\\n,{\"month_name\":\"February\",\"year\":\"2014\",\"query_count\":\"30\",\"query_text\":\"inmates\"}\\n,{\"month_name\":\"February\",\"year\":\"2014\",\"query_count\":\"30\",\"query_text\":\"Police\"}\\n,{\"month_name\":\"February\",\"year\":\"2014\",\"query_count\":\"29\",\"query_text\":\"prostitution\"}\\n,{\"month_name\":\"February\",\"year\":\"2014\",\"query_count\":\"29\",\"query_text\":\"public records\"}\\n,{\"month_name\":\"February\",\"year\":\"2014\",\"query_count\":\"28\",\"query_text\":\"codes administration\"}\\n,{\"month_name\":\"February\",\"year\":\"2014\",\"query_count\":\"28\",\"query_text\":\"parking\"}\\n,{\"month_name\":\"February\",\"year\":\"2014\",\"query_count\":\"28\",\"query_text\":\"divorce records\"}\\n,{\"month_name\":\"February\",\"year\":\"2014\",\"query_count\":\"28\",\"query_text\":\"accident reports\"}\\n,{\"month_name\":\"February\",\"year\":\"2014\",\"query_count\":\"28\",\"query_text\":\"internship\"}\\n,{\"month_name\":\"February\",\"year\":\"2014\",\"query_count\":\"27\",\"query_text\":\"Media release\"}\\n,{\"month_name\":\"February\",\"year\":\"2014\",\"query_count\":\"26\",\"query_text\":\"holidays\"}\\n,{\"month_name\":\"February\",\"year\":\"2014\",\"query_count\":\"26\",\"query_text\":\"Jobs\"}\\n,{\"month_name\":\"February\",\"year\":\"2014\",\"query_count\":\"26\",\"query_text\":\"internships\"}\\n,{\"month_name\":\"February\",\"year\":\"2014\",\"query_count\":\"26\",\"query_text\":\"criminal records\"}\\n,{\"month_name\":\"February\",\"year\":\"2014\",\"query_count\":\"26\",\"query_text\":\"purchasing\"}\\n,{\"month_name\":\"February\",\"year\":\"2014\",\"query_count\":\"26\",\"query_text\":\"civil service\"}\\n,{\"month_name\":\"February\",\"year\":\"2014\",\"query_count\":\"26\",\"query_text\":\"mapping\"}\\n,{\"month_name\":\"February\",\"year\":\"2014\",\"query_count\":\"25\",\"query_text\":\"careers\"}\\n,{\"month_name\":\"February\",\"year\":\"2014\",\"query_count\":\"25\",\"query_text\":\"election commission\"}\\n,{\"month_name\":\"February\",\"year\":\"2014\",\"query_count\":\"24\",\"query_text\":\"parthenon\"}\\n,{\"month_name\":\"February\",\"year\":\"2014\",\"query_count\":\"24\",\"query_text\":\"bids\"}\\n,{\"month_name\":\"February\",\"year\":\"2014\",\"query_count\":\"24\",\"query_text\":\"library\"}\\n,{\"month_name\":\"February\",\"year\":\"2014\",\"query_count\":\"24\",\"query_text\":\"sheriff\"}\\n,{\"month_name\":\"February\",\"year\":\"2014\",\"query_count\":\"24\",\"query_text\":\"bidding\"}\\n,{\"month_name\":\"February\",\"year\":\"2014\",\"query_count\":\"24\",\"query_text\":\"forms\"}\\n,{\"month_name\":\"February\",\"year\":\"2014\",\"query_count\":\"23\",\"query_text\":\"mdha\"}\\n,{\"month_name\":\"February\",\"year\":\"2014\",\"query_count\":\"23\",\"query_text\":\"metro action commission\"}\\n,{\"month_name\":\"February\",\"year\":\"2014\",\"query_count\":\"23\",\"query_text\":\"divorce\"}\\n,{\"month_name\":\"February\",\"year\":\"2014\",\"query_count\":\"23\",\"query_text\":\"marriage license\"}\\n,{\"month_name\":\"February\",\"year\":\"2014\",\"query_count\":\"23\",\"query_text\":\"parks\"}\\n,{\"month_name\":\"February\",\"year\":\"2014\",\"query_count\":\"22\",\"query_text\":\"noise\"}\\n,{\"month_name\":\"February\",\"year\":\"2014\",\"query_count\":\"22\",\"query_text\":\"recycling\"}\\n,{\"month_name\":\"February\",\"year\":\"2014\",\"query_count\":\"22\",\"query_text\":\"Animal control\"}\\n,{\"month_name\":\"February\",\"year\":\"2014\",\"query_count\":\"22\",\"query_text\":\"birth certificate\"}\\n,{\"month_name\":\"February\",\"year\":\"2014\",\"query_count\":\"22\",\"query_text\":\"Electrical Contractors\"}\\n,{\"month_name\":\"February\",\"year\":\"2014\",\"query_count\":\"21\",\"query_text\":\"traffic incident\"}\\n,{\"month_name\":\"February\",\"year\":\"2014\",\"query_count\":\"21\",\"query_text\":\"notary application\"}\\n,{\"month_name\":\"February\",\"year\":\"2014\",\"query_count\":\"21\",\"query_text\":\"trash\"}\\n,{\"month_name\":\"February\",\"year\":\"2014\",\"query_count\":\"21\",\"query_text\":\"building permits\"}\\n,{\"month_name\":\"February\",\"year\":\"2014\",\"query_count\":\"21\",\"query_text\":\"iprocurement\"}\\n,{\"month_name\":\"February\",\"year\":\"2014\",\"query_count\":\"21\",\"query_text\":\"arrest\"}\\n,{\"month_name\":\"February\",\"year\":\"2014\",\"query_count\":\"21\",\"query_text\":\"planning commission\"}\\n,{\"month_name\":\"February\",\"year\":\"2014\",\"query_count\":\"21\",\"query_text\":\"arrests\"}\\n,{\"month_name\":\"February\",\"year\":\"2014\",\"query_count\":\"21\",\"query_text\":\"Police Operations Assistant 1\"}\\n,{\"month_name\":\"February\",\"year\":\"2014\",\"query_count\":\"20\",\"query_text\":\"traffic school\"}\\n,{\"month_name\":\"February\",\"year\":\"2014\",\"query_count\":\"20\",\"query_text\":\"EBID\"}\\n,{\"month_name\":\"February\",\"year\":\"2014\",\"query_count\":\"20\",\"query_text\":\"pay property tax\"}\\n,{\"month_name\":\"February\",\"year\":\"2014\",\"query_count\":\"20\",\"query_text\":\"benefits\"}\\n,{\"month_name\":\"February\",\"year\":\"2014\",\"query_count\":\"20\",\"query_text\":\"finance\"}\\n,{\"month_name\":\"February\",\"year\":\"2014\",\"query_count\":\"20\",\"query_text\":\"recycle\"}\\n,{\"month_name\":\"February\",\"year\":\"2014\",\"query_count\":\"20\",\"query_text\":\"web pro\"}\\n,{\"month_name\":\"February\",\"year\":\"2014\",\"query_count\":\"20\",\"query_text\":\"sheriff\\'s department\"}\\n,{\"month_name\":\"February\",\"year\":\"2014\",\"query_count\":\"20\",\"query_text\":\"budget\"}\\n,{\"month_name\":\"February\",\"year\":\"2014\",\"query_count\":\"19\",\"query_text\":\"vehicle registration\"}\\n,{\"month_name\":\"February\",\"year\":\"2014\",\"query_count\":\"19\",\"query_text\":\"animal shelter\"}\\n,{\"month_name\":\"February\",\"year\":\"2014\",\"query_count\":\"19\",\"query_text\":\"procurement\"}\\n,{\"month_name\":\"February\",\"year\":\"2014\",\"query_count\":\"19\",\"query_text\":\"map\"}\\n,{\"month_name\":\"February\",\"year\":\"2014\",\"query_count\":\"19\",\"query_text\":\"Criminal history\"}\\n,{\"month_name\":\"February\",\"year\":\"2014\",\"query_count\":\"19\",\"query_text\":\"plat maps\"}\\n,{\"month_name\":\"February\",\"year\":\"2014\",\"query_count\":\"19\",\"query_text\":\"marriage\"}\\n,{\"month_name\":\"February\",\"year\":\"2014\",\"query_count\":\"18\",\"query_text\":\"harpeth valley utility district\"}\\n,{\"month_name\":\"February\",\"year\":\"2014\",\"query_count\":\"18\",\"query_text\":\"kiva\"}\\n,{\"month_name\":\"February\",\"year\":\"2014\",\"query_count\":\"18\",\"query_text\":\"police dept\"}\\n,{\"month_name\":\"February\",\"year\":\"2014\",\"query_count\":\"18\",\"query_text\":\"wic\"}\\n,{\"month_name\":\"February\",\"year\":\"2014\",\"query_count\":\"18\",\"query_text\":\"codes department\"}\\n,{\"month_name\":\"February\",\"year\":\"2014\",\"query_count\":\"18\",\"query_text\":\"metro 3\"}\\n,{\"month_name\":\"February\",\"year\":\"2014\",\"query_count\":\"18\",\"query_text\":\"taxes\"}\\n,{\"month_name\":\"February\",\"year\":\"2014\",\"query_count\":\"18\",\"query_text\":\"metro action\"}\\n,{\"month_name\":\"February\",\"year\":\"2014\",\"query_count\":\"18\",\"query_text\":\"death certificate\"}\\n,{\"month_name\":\"February\",\"year\":\"2014\",\"query_count\":\"18\",\"query_text\":\"police reports\"}\\n,{\"month_name\":\"February\",\"year\":\"2014\",\"query_count\":\"17\",\"query_text\":\"chickens\"}\\n,{\"month_name\":\"February\",\"year\":\"2014\",\"query_count\":\"17\",\"query_text\":\"mccabe\"}\\n,{\"month_name\":\"February\",\"year\":\"2014\",\"query_count\":\"17\",\"query_text\":\"incomplete infrastructure\"}\\n,{\"month_name\":\"February\",\"year\":\"2014\",\"query_count\":\"17\",\"query_text\":\"demolition permits\"}\\n,{\"month_name\":\"February\",\"year\":\"2014\",\"query_count\":\"17\",\"query_text\":\"isupplier\"}\\n,{\"month_name\":\"February\",\"year\":\"2014\",\"query_count\":\"17\",\"query_text\":\"Fire Marshal Department\"}\\n,{\"month_name\":\"February\",\"year\":\"2014\",\"query_count\":\"17\",\"query_text\":\"Property taxes\"}\\n,{\"month_name\":\"February\",\"year\":\"2014\",\"query_count\":\"16\",\"query_text\":\"michael sullivan\"}\\n,{\"month_name\":\"February\",\"year\":\"2014\",\"query_count\":\"16\",\"query_text\":\"crime map\"}\\n,{\"month_name\":\"February\",\"year\":\"2014\",\"query_count\":\"16\",\"query_text\":\"Parthenon\"}\\n,{\"month_name\":\"February\",\"year\":\"2014\",\"query_count\":\"16\",\"query_text\":\"pay scale\"}\\n,{\"month_name\":\"February\",\"year\":\"2014\",\"query_count\":\"16\",\"query_text\":\"traffic accidents\"}\\n,{\"month_name\":\"February\",\"year\":\"2014\",\"query_count\":\"16\",\"query_text\":\"stormwater\"}\\n,{\"month_name\":\"February\",\"year\":\"2014\",\"query_count\":\"16\",\"query_text\":\"Employment\"}\\n,{\"month_name\":\"February\",\"year\":\"2014\",\"query_count\":\"16\",\"query_text\":\"metro water services\"}\\n,{\"month_name\":\"February\",\"year\":\"2014\",\"query_count\":\"16\",\"query_text\":\"retirement\"}\\n,{\"month_name\":\"February\",\"year\":\"2014\",\"query_count\":\"16\",\"query_text\":\"benefit board\"}\\n,{\"month_name\":\"February\",\"year\":\"2014\",\"query_count\":\"16\",\"query_text\":\"health department\"}\\n,{\"month_name\":\"February\",\"year\":\"2014\",\"query_count\":\"16\",\"query_text\":\"zoning map\"}\\n,{\"month_name\":\"February\",\"year\":\"2014\",\"query_count\":\"16\",\"query_text\":\"daily arrest\"}\\n,{\"month_name\":\"February\",\"year\":\"2014\",\"query_count\":\"16\",\"query_text\":\"jobs openings\"}\\n,{\"month_name\":\"February\",\"year\":\"2014\",\"query_count\":\"15\",\"query_text\":\"ice skating\"}\\n,{\"month_name\":\"February\",\"year\":\"2014\",\"query_count\":\"15\",\"query_text\":\"brush pickup\"}\\n,{\"month_name\":\"February\",\"year\":\"2014\",\"query_count\":\"15\",\"query_text\":\"circuit court\"}\\n,{\"month_name\":\"February\",\"year\":\"2014\",\"query_count\":\"15\",\"query_text\":\"Metropolitan sports authority rfp\"}\\n,{\"month_name\":\"February\",\"year\":\"2014\",\"query_count\":\"15\",\"query_text\":\"job\"}\\n,{\"month_name\":\"February\",\"year\":\"2014\",\"query_count\":\"15\",\"query_text\":\"sign regulations\"}\\n,{\"month_name\":\"February\",\"year\":\"2014\",\"query_count\":\"15\",\"query_text\":\"fingerprinting\"}\\n,{\"month_name\":\"February\",\"year\":\"2014\",\"query_count\":\"15\",\"query_text\":\"nashville court dockets\"}\\n,{\"month_name\":\"February\",\"year\":\"2014\",\"query_count\":\"15\",\"query_text\":\"gay\"}\\n,{\"month_name\":\"February\",\"year\":\"2014\",\"query_count\":\"15\",\"query_text\":\"Property assessor\"}\\n,{\"month_name\":\"February\",\"year\":\"2014\",\"query_count\":\"15\",\"query_text\":\"Criminal court clerk\"}\\n,{\"month_name\":\"February\",\"year\":\"2014\",\"query_count\":\"15\",\"query_text\":\"mug shots\"}\\n,{\"month_name\":\"February\",\"year\":\"2014\",\"query_count\":\"15\",\"query_text\":\"2008 hiring freeze\"}\\n,{\"month_name\":\"February\",\"year\":\"2014\",\"query_count\":\"15\",\"query_text\":\"Traffic\"}\\n,{\"month_name\":\"February\",\"year\":\"2014\",\"query_count\":\"15\",\"query_text\":\"Circuit Court Clerk\"}\\n,{\"month_name\":\"February\",\"year\":\"2014\",\"query_count\":\"15\",\"query_text\":\"central business improvement district\"}\\n,{\"month_name\":\"February\",\"year\":\"2014\",\"query_count\":\"15\",\"query_text\":\"criminal background\"}\\n,{\"month_name\":\"February\",\"year\":\"2014\",\"query_count\":\"14\",\"query_text\":\"Meth\"}\\n,{\"month_name\":\"February\",\"year\":\"2014\",\"query_count\":\"14\",\"query_text\":\"court\"}\\n,{\"month_name\":\"February\",\"year\":\"2014\",\"query_count\":\"14\",\"query_text\":\"building permit\"}\\n,{\"month_name\":\"February\",\"year\":\"2014\",\"query_count\":\"14\",\"query_text\":\"notary\"}\\n,{\"month_name\":\"February\",\"year\":\"2014\",\"query_count\":\"14\",\"query_text\":\"Trustee\"}\\n,{\"month_name\":\"February\",\"year\":\"2014\",\"query_count\":\"14\",\"query_text\":\"ESS\"}\\n,{\"month_name\":\"February\",\"year\":\"2014\",\"query_count\":\"14\",\"query_text\":\"temporary work zones\"}\\n,{\"month_name\":\"February\",\"year\":\"2014\",\"query_count\":\"14\",\"query_text\":\"election\"}\\n,{\"month_name\":\"February\",\"year\":\"2014\",\"query_count\":\"14\",\"query_text\":\"real property taxes\"}\\n,{\"month_name\":\"February\",\"year\":\"2014\",\"query_count\":\"14\",\"query_text\":\"Michael sullivan\"}\\n,{\"month_name\":\"February\",\"year\":\"2014\",\"query_count\":\"14\",\"query_text\":\"police vehicle accidents 2013\"}\\n,{\"month_name\":\"February\",\"year\":\"2014\",\"query_count\":\"14\",\"query_text\":\"traffic court\"}\\n,{\"month_name\":\"February\",\"year\":\"2014\",\"query_count\":\"14\",\"query_text\":\"board of health meeting\"}\\n,{\"month_name\":\"February\",\"year\":\"2014\",\"query_count\":\"14\",\"query_text\":\"willis\"}\\n,{\"month_name\":\"February\",\"year\":\"2014\",\"query_count\":\"14\",\"query_text\":\"property map\"}\\n,{\"month_name\":\"February\",\"year\":\"2014\",\"query_count\":\"14\",\"query_text\":\"Inmate search\"}\\n,{\"month_name\":\"February\",\"year\":\"2014\",\"query_count\":\"14\",\"query_text\":\"rfp\"}\\n,{\"month_name\":\"February\",\"year\":\"2014\",\"query_count\":\"14\",\"query_text\":\"its\"}\\n,{\"month_name\":\"February\",\"year\":\"2014\",\"query_count\":\"14\",\"query_text\":\"drivers license\"}\\n,{\"month_name\":\"February\",\"year\":\"2014\",\"query_count\":\"13\",\"query_text\":\"auctions\"}\\n,{\"month_name\":\"February\",\"year\":\"2014\",\"query_count\":\"13\",\"query_text\":\"online property maps\"}\\n,{\"month_name\":\"February\",\"year\":\"2014\",\"query_count\":\"13\",\"query_text\":\"fort nashborough\"}\\n,{\"month_name\":\"February\",\"year\":\"2014\",\"query_count\":\"13\",\"query_text\":\"WEB PRO\"}\\n,{\"month_name\":\"February\",\"year\":\"2014\",\"query_count\":\"13\",\"query_text\":\"GIS\"}\\n,{\"month_name\":\"February\",\"year\":\"2014\",\"query_count\":\"13\",\"query_text\":\"Surplus\"}\\n,{\"month_name\":\"February\",\"year\":\"2014\",\"query_count\":\"13\",\"query_text\":\"assessor of property\"}\\n,{\"month_name\":\"February\",\"year\":\"2014\",\"query_count\":\"13\",\"query_text\":\"Ice skating\"}\\n,{\"month_name\":\"February\",\"year\":\"2014\",\"query_count\":\"13\",\"query_text\":\"records correction\"}\\n,{\"month_name\":\"February\",\"year\":\"2014\",\"query_count\":\"13\",\"query_text\":\"MDHA\"}\\n,{\"month_name\":\"February\",\"year\":\"2014\",\"query_count\":\"13\",\"query_text\":\"Outstanding Warrants\"}\\n,{\"month_name\":\"February\",\"year\":\"2014\",\"query_count\":\"13\",\"query_text\":\"emissions\"}\\n,{\"month_name\":\"February\",\"year\":\"2014\",\"query_count\":\"13\",\"query_text\":\"easement\"}\\n,{\"month_name\":\"February\",\"year\":\"2014\",\"query_count\":\"13\",\"query_text\":\"bl2003-1386\"}\\n,{\"month_name\":\"February\",\"year\":\"2014\",\"query_count\":\"13\",\"query_text\":\"phone number\"}\\n,{\"month_name\":\"February\",\"year\":\"2014\",\"query_count\":\"13\",\"query_text\":\"job openings\"}\\n,{\"month_name\":\"February\",\"year\":\"2014\",\"query_count\":\"13\",\"query_text\":\"police report\"}\\n,{\"month_name\":\"February\",\"year\":\"2014\",\"query_count\":\"13\",\"query_text\":\"rabies\"}\\n,{\"month_name\":\"February\",\"year\":\"2014\",\"query_count\":\"13\",\"query_text\":\"us community credit union\"}\\n,{\"month_name\":\"February\",\"year\":\"2014\",\"query_count\":\"13\",\"query_text\":\"metro holidays\"}\\n,{\"month_name\":\"February\",\"year\":\"2014\",\"query_count\":\"13\",\"query_text\":\"curling\"}\\n,{\"month_name\":\"February\",\"year\":\"2014\",\"query_count\":\"13\",\"query_text\":\"property lien\"}\\n,{\"month_name\":\"February\",\"year\":\"2014\",\"query_count\":\"13\",\"query_text\":\"schools\"}\\n,{\"month_name\":\"February\",\"year\":\"2014\",\"query_count\":\"12\",\"query_text\":\"press credentials\"}\\n,{\"month_name\":\"February\",\"year\":\"2014\",\"query_count\":\"12\",\"query_text\":\"chicken\"}\\n,{\"month_name\":\"February\",\"year\":\"2014\",\"query_count\":\"12\",\"query_text\":\"tax\"}\\n,{\"month_name\":\"February\",\"year\":\"2014\",\"query_count\":\"12\",\"query_text\":\"marathon music works\"}\\n,{\"month_name\":\"February\",\"year\":\"2014\",\"query_count\":\"12\",\"query_text\":\"directory\"}\\n,{\"month_name\":\"February\",\"year\":\"2014\",\"query_count\":\"12\",\"query_text\":\"circuit clerk\"}\\n,{\"month_name\":\"February\",\"year\":\"2014\",\"query_count\":\"12\",\"query_text\":\"gulch\"}\\n,{\"month_name\":\"February\",\"year\":\"2014\",\"query_count\":\"12\",\"query_text\":\"Property Maps\"}\\n,{\"month_name\":\"February\",\"year\":\"2014\",\"query_count\":\"12\",\"query_text\":\"Criminal court\"}\\n,{\"month_name\":\"February\",\"year\":\"2014\",\"query_count\":\"12\",\"query_text\":\"theft\"}\\n,{\"month_name\":\"February\",\"year\":\"2014\",\"query_count\":\"12\",\"query_text\":\"sinkholes\"}\\n,{\"month_name\":\"February\",\"year\":\"2014\",\"query_count\":\"12\",\"query_text\":\"\\\\\"HOME BUSINESS\\\\\"\"}\\n,{\"month_name\":\"February\",\"year\":\"2014\",\"query_count\":\"12\",\"query_text\":\"Birth certificate\"}\\n,{\"month_name\":\"February\",\"year\":\"2014\",\"query_count\":\"12\",\"query_text\":\"Insulation\"}\\n,{\"month_name\":\"April\",\"year\":\"2014\",\"query_count\":\"10\",\"query_text\":\"mnps\"}\\n,{\"month_name\":\"February\",\"year\":\"2014\",\"query_count\":\"12\",\"query_text\":\"hr\"}\\n,{\"month_name\":\"February\",\"year\":\"2014\",\"query_count\":\"12\",\"query_text\":\"non conforming use hearings\"}\\n,{\"month_name\":\"February\",\"year\":\"2014\",\"query_count\":\"12\",\"query_text\":\"metro schools\"}\\n,{\"month_name\":\"February\",\"year\":\"2014\",\"query_count\":\"12\",\"query_text\":\"sulphur dell\"}\\n,{\"month_name\":\"February\",\"year\":\"2014\",\"query_count\":\"12\",\"query_text\":\"property assesor\"}\\n,{\"month_name\":\"February\",\"year\":\"2014\",\"query_count\":\"12\",\"query_text\":\"application\"}\\n,{\"month_name\":\"February\",\"year\":\"2014\",\"query_count\":\"12\",\"query_text\":\"sign permit\"}\\n,{\"month_name\":\"February\",\"year\":\"2014\",\"query_count\":\"12\",\"query_text\":\"email\"}\\n,{\"month_name\":\"February\",\"year\":\"2014\",\"query_count\":\"12\",\"query_text\":\"traffic and parking\"}\\n,{\"month_name\":\"February\",\"year\":\"2014\",\"query_count\":\"12\",\"query_text\":\"beer board\"}\\n,{\"month_name\":\"February\",\"year\":\"2014\",\"query_count\":\"12\",\"query_text\":\"recent booking\"}\\n,{\"month_name\":\"February\",\"year\":\"2014\",\"query_count\":\"12\",\"query_text\":\"septic\"}\\n,{\"month_name\":\"February\",\"year\":\"2014\",\"query_count\":\"11\",\"query_text\":\"weather\"}\\n,{\"month_name\":\"February\",\"year\":\"2014\",\"query_count\":\"11\",\"query_text\":\"Property tax\"}\\n,{\"month_name\":\"February\",\"year\":\"2014\",\"query_count\":\"11\",\"query_text\":\"authorizing resolution general obligation bonds\"}\\n,{\"month_name\":\"February\",\"year\":\"2014\",\"query_count\":\"11\",\"query_text\":\"traffic ticket\"}\\n,{\"month_name\":\"February\",\"year\":\"2014\",\"query_count\":\"11\",\"query_text\":\"property records\"}\\n,{\"month_name\":\"February\",\"year\":\"2014\",\"query_count\":\"11\",\"query_text\":\"traffic violations bureau\"}\\n,{\"month_name\":\"February\",\"year\":\"2014\",\"query_count\":\"11\",\"query_text\":\"bradley county sheriff\\'s\"}\\n,{\"month_name\":\"February\",\"year\":\"2014\",\"query_count\":\"11\",\"query_text\":\"RFP\"}\\n,{\"month_name\":\"February\",\"year\":\"2014\",\"query_count\":\"11\",\"query_text\":\"zoning codes\"}\\n,{\"month_name\":\"February\",\"year\":\"2014\",\"query_count\":\"11\",\"query_text\":\"unemployment\"}\\n,{\"month_name\":\"February\",\"year\":\"2014\",\"query_count\":\"11\",\"query_text\":\"warehouses\"}\\n,{\"month_name\":\"February\",\"year\":\"2014\",\"query_count\":\"11\",\"query_text\":\"metro code\"}\\n,{\"month_name\":\"February\",\"year\":\"2014\",\"query_count\":\"11\",\"query_text\":\"fire department\"}\\n,{\"month_name\":\"February\",\"year\":\"2014\",\"query_count\":\"11\",\"query_text\":\"contact\"}\\n,{\"month_name\":\"February\",\"year\":\"2014\",\"query_count\":\"11\",\"query_text\":\"correctional officer\"}\\n,{\"month_name\":\"February\",\"year\":\"2014\",\"query_count\":\"11\",\"query_text\":\"centennial park\"}\\n,{\"month_name\":\"February\",\"year\":\"2014\",\"query_count\":\"11\",\"query_text\":\"lakewood water project\"}\\n,{\"month_name\":\"February\",\"year\":\"2014\",\"query_count\":\"11\",\"query_text\":\"property-taxes\"}\\n,{\"month_name\":\"February\",\"year\":\"2014\",\"query_count\":\"11\",\"query_text\":\"employment opportunities\"}\\n,{\"month_name\":\"February\",\"year\":\"2014\",\"query_count\":\"11\",\"query_text\":\"inmate information\"}\\n,{\"month_name\":\"February\",\"year\":\"2014\",\"query_count\":\"11\",\"query_text\":\"urban zoning overlay\"}\\n,{\"month_name\":\"February\",\"year\":\"2014\",\"query_count\":\"11\",\"query_text\":\"fort negley\"}\\n,{\"month_name\":\"February\",\"year\":\"2014\",\"query_count\":\"11\",\"query_text\":\"warrant search\"}\\n,{\"month_name\":\"February\",\"year\":\"2014\",\"query_count\":\"11\",\"query_text\":\"Property\"}\\n,{\"month_name\":\"February\",\"year\":\"2014\",\"query_count\":\"11\",\"query_text\":\"application status\"}\\n,{\"month_name\":\"February\",\"year\":\"2014\",\"query_count\":\"11\",\"query_text\":\"truancy\"}\\n,{\"month_name\":\"February\",\"year\":\"2014\",\"query_count\":\"11\",\"query_text\":\"population lentz public health serves\"}\\n,{\"month_name\":\"February\",\"year\":\"2014\",\"query_count\":\"11\",\"query_text\":\"VANDALISM\"}\\n,{\"month_name\":\"February\",\"year\":\"2014\",\"query_count\":\"11\",\"query_text\":\"shawn herman\"}\\n,{\"month_name\":\"February\",\"year\":\"2014\",\"query_count\":\"11\",\"query_text\":\"city ordinances\"}\\n,{\"month_name\":\"February\",\"year\":\"2014\",\"query_count\":\"11\",\"query_text\":\"community education\"}\\n,{\"month_name\":\"February\",\"year\":\"2014\",\"query_count\":\"11\",\"query_text\":\"tax schedule b\"}\\n,{\"month_name\":\"February\",\"year\":\"2014\",\"query_count\":\"11\",\"query_text\":\"building codes\"}\\n,{\"month_name\":\"February\",\"year\":\"2014\",\"query_count\":\"10\",\"query_text\":\"baseball agreement\"}\\n,{\"month_name\":\"February\",\"year\":\"2014\",\"query_count\":\"10\",\"query_text\":\"Part-time employment\"}\\n,{\"month_name\":\"February\",\"year\":\"2014\",\"query_count\":\"10\",\"query_text\":\"Sgt Tripp\"}\\n,{\"month_name\":\"February\",\"year\":\"2014\",\"query_count\":\"10\",\"query_text\":\"metro parks\"}\\n,{\"month_name\":\"February\",\"year\":\"2014\",\"query_count\":\"10\",\"query_text\":\"Codes\"}\\n,{\"month_name\":\"February\",\"year\":\"2014\",\"query_count\":\"10\",\"query_text\":\"traffic tickets\"}\\n,{\"month_name\":\"February\",\"year\":\"2014\",\"query_count\":\"10\",\"query_text\":\"ordinance bl2004-122\"}\\n,{\"month_name\":\"February\",\"year\":\"2014\",\"query_count\":\"10\",\"query_text\":\"zoning maps\"}\\n,{\"month_name\":\"February\",\"year\":\"2014\",\"query_count\":\"10\",\"query_text\":\"notary public\"}\\n,{\"month_name\":\"February\",\"year\":\"2014\",\"query_count\":\"10\",\"query_text\":\"cumberland park\"}\\n,{\"month_name\":\"February\",\"year\":\"2014\",\"query_count\":\"10\",\"query_text\":\"school\"}\\n,{\"month_name\":\"February\",\"year\":\"2014\",\"query_count\":\"10\",\"query_text\":\"Permit June 24, 2013\"}\\n,{\"month_name\":\"February\",\"year\":\"2014\",\"query_count\":\"10\",\"query_text\":\"STANDARD INSURANCE POLICY\"}\\n,{\"month_name\":\"February\",\"year\":\"2014\",\"query_count\":\"10\",\"query_text\":\"alarm registration\"}\\n,{\"month_name\":\"February\",\"year\":\"2014\",\"query_count\":\"10\",\"query_text\":\"sheriff department\"}\\n,{\"month_name\":\"February\",\"year\":\"2014\",\"query_count\":\"10\",\"query_text\":\"bid\"}\\n,{\"month_name\":\"February\",\"year\":\"2014\",\"query_count\":\"10\",\"query_text\":\"Coleman park\"}\\n,{\"month_name\":\"February\",\"year\":\"2014\",\"query_count\":\"10\",\"query_text\":\"employee service module\"}\\n,{\"month_name\":\"February\",\"year\":\"2014\",\"query_count\":\"10\",\"query_text\":\"sign permits\"}\\n,{\"month_name\":\"February\",\"year\":\"2014\",\"query_count\":\"10\",\"query_text\":\"business license application\"}\\n,{\"month_name\":\"February\",\"year\":\"2014\",\"query_count\":\"10\",\"query_text\":\"Warrants\"}\\n,{\"month_name\":\"February\",\"year\":\"2014\",\"query_count\":\"10\",\"query_text\":\"comprehensive annual financial report\"}\\n,{\"month_name\":\"February\",\"year\":\"2014\",\"query_count\":\"10\",\"query_text\":\"recent arrests\"}\\n,{\"month_name\":\"February\",\"year\":\"2014\",\"query_count\":\"10\",\"query_text\":\"dmv\"}\\n,{\"month_name\":\"February\",\"year\":\"2014\",\"query_count\":\"10\",\"query_text\":\"Zoning\"}\\n,{\"month_name\":\"February\",\"year\":\"2014\",\"query_count\":\"10\",\"query_text\":\"Michael Williams\"}\\n,{\"month_name\":\"February\",\"year\":\"2014\",\"query_count\":\"10\",\"query_text\":\"business tax license\"}\\n,{\"month_name\":\"February\",\"year\":\"2014\",\"query_count\":\"10\",\"query_text\":\"CAFR\"}\\n,{\"month_name\":\"February\",\"year\":\"2014\",\"query_count\":\"10\",\"query_text\":\"riverfront park\"}\\n,{\"month_name\":\"February\",\"year\":\"2014\",\"query_count\":\"10\",\"query_text\":\"2010 flood map\"}\\n,{\"month_name\":\"February\",\"year\":\"2014\",\"query_count\":\"10\",\"query_text\":\"traffic accident reports\"}\\n,{\"month_name\":\"February\",\"year\":\"2014\",\"query_count\":\"10\",\"query_text\":\"metro trustee\"}\\n,{\"month_name\":\"February\",\"year\":\"2014\",\"query_count\":\"10\",\"query_text\":\"storm water\"}\\n,{\"month_name\":\"February\",\"year\":\"2014\",\"query_count\":\"10\",\"query_text\":\"payroll\"}\\n,{\"month_name\":\"February\",\"year\":\"2014\",\"query_count\":\"10\",\"query_text\":\"construction bids\"}\\n,{\"month_name\":\"February\",\"year\":\"2014\",\"query_count\":\"10\",\"query_text\":\"animal\"}\\n,{\"month_name\":\"February\",\"year\":\"2014\",\"query_count\":\"10\",\"query_text\":\"fmla\"}\\n,{\"month_name\":\"February\",\"year\":\"2014\",\"query_count\":\"10\",\"query_text\":\"home fish species\"}\\n,{\"month_name\":\"February\",\"year\":\"2014\",\"query_count\":\"10\",\"query_text\":\"address\"}\\n,{\"month_name\":\"February\",\"year\":\"2014\",\"query_count\":\"10\",\"query_text\":\"Employee self service\"}\\n,{\"month_name\":\"February\",\"year\":\"2014\",\"query_count\":\"9\",\"query_text\":\"legal\"}\\n,{\"month_name\":\"February\",\"year\":\"2014\",\"query_count\":\"9\",\"query_text\":\"head start\"}\\n,{\"month_name\":\"February\",\"year\":\"2014\",\"query_count\":\"9\",\"query_text\":\"Property maps\"}\\n,{\"month_name\":\"February\",\"year\":\"2014\",\"query_count\":\"9\",\"query_text\":\"booking\"}\\n,{\"month_name\":\"February\",\"year\":\"2014\",\"query_count\":\"9\",\"query_text\":\"delayed accident report\"}\\n,{\"month_name\":\"February\",\"year\":\"2014\",\"query_count\":\"9\",\"query_text\":\"how to get press credentials\"}\\n,{\"month_name\":\"February\",\"year\":\"2014\",\"query_count\":\"9\",\"query_text\":\"missing persons\"}\\n,{\"month_name\":\"February\",\"year\":\"2014\",\"query_count\":\"9\",\"query_text\":\"fleet management\"}\\n,{\"month_name\":\"February\",\"year\":\"2014\",\"query_count\":\"9\",\"query_text\":\"criminal\"}\\n,{\"month_name\":\"February\",\"year\":\"2014\",\"query_count\":\"9\",\"query_text\":\"quitclaim deed\"}\\n,{\"month_name\":\"February\",\"year\":\"2014\",\"query_count\":\"9\",\"query_text\":\"mail exchange\"}\\n,{\"month_name\":\"February\",\"year\":\"2014\",\"query_count\":\"9\",\"query_text\":\"Animal shelter\"}\\n,{\"month_name\":\"February\",\"year\":\"2014\",\"query_count\":\"9\",\"query_text\":\"public record worker pay\"}\\n,{\"month_name\":\"February\",\"year\":\"2014\",\"query_count\":\"9\",\"query_text\":\"cafr\"}\\n,{\"month_name\":\"February\",\"year\":\"2014\",\"query_count\":\"9\",\"query_text\":\"grants\"}\\n,{\"month_name\":\"February\",\"year\":\"2014\",\"query_count\":\"9\",\"query_text\":\"calendar\"}\\n,{\"month_name\":\"February\",\"year\":\"2014\",\"query_count\":\"9\",\"query_text\":\"prostitution arrests\"}\\n,{\"month_name\":\"February\",\"year\":\"2014\",\"query_count\":\"9\",\"query_text\":\"Proposal No. 2002UD-001U-10\"}\\n,{\"month_name\":\"February\",\"year\":\"2014\",\"query_count\":\"9\",\"query_text\":\"technology consulting services\"}\\n,{\"month_name\":\"February\",\"year\":\"2014\",\"query_count\":\"9\",\"query_text\":\"building permit application\"}\\n,{\"month_name\":\"February\",\"year\":\"2014\",\"query_count\":\"9\",\"query_text\":\"signage\"}\\n,{\"month_name\":\"February\",\"year\":\"2014\",\"query_count\":\"9\",\"query_text\":\"grease traps\"}\\n,{\"month_name\":\"February\",\"year\":\"2014\",\"query_count\":\"9\",\"query_text\":\"Inside metro\"}\\n,{\"month_name\":\"February\",\"year\":\"2014\",\"query_count\":\"9\",\"query_text\":\"license\"}\\n,{\"month_name\":\"February\",\"year\":\"2014\",\"query_count\":\"9\",\"query_text\":\"flex time\"}\\n,{\"month_name\":\"February\",\"year\":\"2014\",\"query_count\":\"9\",\"query_text\":\"private property accident report\"}\\n,{\"month_name\":\"February\",\"year\":\"2014\",\"query_count\":\"9\",\"query_text\":\"chancery court\"}\\n,{\"month_name\":\"February\",\"year\":\"2014\",\"query_count\":\"9\",\"query_text\":\"traffic accident\"}\\n,{\"month_name\":\"February\",\"year\":\"2014\",\"query_count\":\"9\",\"query_text\":\"Fire Marshal\"}\\n,{\"month_name\":\"February\",\"year\":\"2014\",\"query_count\":\"9\",\"query_text\":\"e bid\"}\\n,{\"month_name\":\"February\",\"year\":\"2014\",\"query_count\":\"9\",\"query_text\":\"Centennial park\"}\\n,{\"month_name\":\"February\",\"year\":\"2014\",\"query_count\":\"9\",\"query_text\":\"dbe\"}\\n,{\"month_name\":\"February\",\"year\":\"2014\",\"query_count\":\"9\",\"query_text\":\"maps for water and sewer lines\"}\\n,{\"month_name\":\"February\",\"year\":\"2014\",\"query_count\":\"9\",\"query_text\":\"TAG RENEWAL ONLINE\"}\\n,{\"month_name\":\"February\",\"year\":\"2014\",\"query_count\":\"9\",\"query_text\":\"chicken permit\"}\\n,{\"month_name\":\"February\",\"year\":\"2014\",\"query_count\":\"9\",\"query_text\":\"pension\"}\\n,{\"month_name\":\"February\",\"year\":\"2014\",\"query_count\":\"9\",\"query_text\":\"percy warner park\"}\\n,{\"month_name\":\"February\",\"year\":\"2014\",\"query_count\":\"9\",\"query_text\":\"quit claim deed\"}\\n,{\"month_name\":\"February\",\"year\":\"2014\",\"query_count\":\"9\",\"query_text\":\"notary public application\"}\\n,{\"month_name\":\"February\",\"year\":\"2014\",\"query_count\":\"9\",\"query_text\":\"civil service commission\"}\\n,{\"month_name\":\"February\",\"year\":\"2014\",\"query_count\":\"9\",\"query_text\":\"e-bid\"}\\n,{\"month_name\":\"February\",\"year\":\"2014\",\"query_count\":\"9\",\"query_text\":\"Recycling\"}\\n,{\"month_name\":\"February\",\"year\":\"2014\",\"query_count\":\"9\",\"query_text\":\"robin\"}\\n,{\"month_name\":\"February\",\"year\":\"2014\",\"query_count\":\"9\",\"query_text\":\"daily permits\"}\\n,{\"month_name\":\"February\",\"year\":\"2014\",\"query_count\":\"9\",\"query_text\":\"golf\"}\\n,{\"month_name\":\"February\",\"year\":\"2014\",\"query_count\":\"9\",\"query_text\":\"Fire alarm\"}\\n,{\"month_name\":\"February\",\"year\":\"2014\",\"query_count\":\"9\",\"query_text\":\"surplus\"}\\n,{\"month_name\":\"February\",\"year\":\"2014\",\"query_count\":\"9\",\"query_text\":\"tax assessors office\"}\\n,{\"month_name\":\"February\",\"year\":\"2014\",\"query_count\":\"9\",\"query_text\":\"APPLICATION FOR CHANGE OF NAME\"}\\n,{\"month_name\":\"February\",\"year\":\"2014\",\"query_count\":\"8\",\"query_text\":\"record\"}\\n,{\"month_name\":\"February\",\"year\":\"2014\",\"query_count\":\"8\",\"query_text\":\"landlord registration\"}\\n,{\"month_name\":\"February\",\"year\":\"2014\",\"query_count\":\"8\",\"query_text\":\"lookup license\"}\\n,{\"month_name\":\"February\",\"year\":\"2014\",\"query_count\":\"8\",\"query_text\":\"holiday\"}\\n,{\"month_name\":\"February\",\"year\":\"2014\",\"query_count\":\"8\",\"query_text\":\"sidewalks\"}\\n,{\"month_name\":\"February\",\"year\":\"2014\",\"query_count\":\"8\",\"query_text\":\"percent for art\"}\\n,{\"month_name\":\"February\",\"year\":\"2014\",\"query_count\":\"8\",\"query_text\":\"planning department\"}\\n,{\"month_name\":\"February\",\"year\":\"2014\",\"query_count\":\"8\",\"query_text\":\"hiring freeze\"}\\n,{\"month_name\":\"February\",\"year\":\"2014\",\"query_count\":\"8\",\"query_text\":\"jose mendez\"}\\n,{\"month_name\":\"February\",\"year\":\"2014\",\"query_count\":\"8\",\"query_text\":\"Inside Metro\"}\\n,{\"month_name\":\"February\",\"year\":\"2014\",\"query_count\":\"8\",\"query_text\":\"Sidewalk encroachment\"}\\n,{\"month_name\":\"February\",\"year\":\"2014\",\"query_count\":\"8\",\"query_text\":\"permit application\"}\\n,{\"month_name\":\"February\",\"year\":\"2014\",\"query_count\":\"8\",\"query_text\":\"impound lot\"}\\n,{\"month_name\":\"February\",\"year\":\"2014\",\"query_count\":\"8\",\"query_text\":\"holiday schedule\"}\\n,{\"month_name\":\"February\",\"year\":\"2014\",\"query_count\":\"8\",\"query_text\":\"duane phillips\"}\\n,{\"month_name\":\"February\",\"year\":\"2014\",\"query_count\":\"8\",\"query_text\":\"metro employees, general hospital\"}\\n,{\"month_name\":\"February\",\"year\":\"2014\",\"query_count\":\"8\",\"query_text\":\"leash law\"}\\n,{\"month_name\":\"February\",\"year\":\"2014\",\"query_count\":\"8\",\"query_text\":\"Police department\"}\\n,{\"month_name\":\"February\",\"year\":\"2014\",\"query_count\":\"8\",\"query_text\":\"civil court\"}\\n,{\"month_name\":\"February\",\"year\":\"2014\",\"query_count\":\"8\",\"query_text\":\"setback\"}\\n,{\"month_name\":\"February\",\"year\":\"2014\",\"query_count\":\"8\",\"query_text\":\"fire marshall inspection\"}\\n,{\"month_name\":\"February\",\"year\":\"2014\",\"query_count\":\"8\",\"query_text\":\"urban services district\"}\\n,{\"month_name\":\"February\",\"year\":\"2014\",\"query_count\":\"8\",\"query_text\":\"livia smith\"}\\n,{\"month_name\":\"February\",\"year\":\"2014\",\"query_count\":\"8\",\"query_text\":\"sleeping\"}\\n,{\"month_name\":\"February\",\"year\":\"2014\",\"query_count\":\"8\",\"query_text\":\"joseph belew\"}\\n,{\"month_name\":\"February\",\"year\":\"2014\",\"query_count\":\"8\",\"query_text\":\"metro school\"}\\n,{\"month_name\":\"February\",\"year\":\"2014\",\"query_count\":\"8\",\"query_text\":\"approving the transfer of certain properties\"}\\n,{\"month_name\":\"February\",\"year\":\"2014\",\"query_count\":\"8\",\"query_text\":\"metro pay plan\"}\\n,{\"month_name\":\"February\",\"year\":\"2014\",\"query_count\":\"8\",\"query_text\":\"emissions testing\"}\\n,{\"month_name\":\"February\",\"year\":\"2014\",\"query_count\":\"8\",\"query_text\":\"crime lab\"}\\n,{\"month_name\":\"February\",\"year\":\"2014\",\"query_count\":\"8\",\"query_text\":\"sign in\"}\\n,{\"month_name\":\"February\",\"year\":\"2014\",\"query_count\":\"8\",\"query_text\":\"permit\"}\\n,{\"month_name\":\"February\",\"year\":\"2014\",\"query_count\":\"8\",\"query_text\":\"sidewalk repair\"}\\n,{\"month_name\":\"February\",\"year\":\"2014\",\"query_count\":\"8\",\"query_text\":\"U\"}\\n,{\"month_name\":\"February\",\"year\":\"2014\",\"query_count\":\"8\",\"query_text\":\"historic\"}\\n,{\"month_name\":\"February\",\"year\":\"2014\",\"query_count\":\"8\",\"query_text\":\"warrant\"}\\n,{\"month_name\":\"February\",\"year\":\"2014\",\"query_count\":\"8\",\"query_text\":\"nashville clerk\"}\\n,{\"month_name\":\"February\",\"year\":\"2014\",\"query_count\":\"8\",\"query_text\":\"career\"}\\n,{\"month_name\":\"February\",\"year\":\"2014\",\"query_count\":\"8\",\"query_text\":\"car auctions\"}\\n,{\"month_name\":\"February\",\"year\":\"2014\",\"query_count\":\"8\",\"query_text\":\"food stamps\"}\\n,{\"month_name\":\"February\",\"year\":\"2014\",\"query_count\":\"8\",\"query_text\":\"google.com\"}\\n,{\"month_name\":\"February\",\"year\":\"2014\",\"query_count\":\"8\",\"query_text\":\"zoning code\"}\\n,{\"month_name\":\"February\",\"year\":\"2014\",\"query_count\":\"8\",\"query_text\":\"mobile\"}\\n,{\"month_name\":\"February\",\"year\":\"2014\",\"query_count\":\"8\",\"query_text\":\"criminal record\"}\\n,{\"month_name\":\"February\",\"year\":\"2014\",\"query_count\":\"8\",\"query_text\":\"history\"}\\n,{\"month_name\":\"February\",\"year\":\"2014\",\"query_count\":\"8\",\"query_text\":\"personal history statement\"}\\n,{\"month_name\":\"February\",\"year\":\"2014\",\"query_count\":\"8\",\"query_text\":\"amp\"}\\n,{\"month_name\":\"February\",\"year\":\"2014\",\"query_count\":\"8\",\"query_text\":\"voter registration\"}\\n,{\"month_name\":\"February\",\"year\":\"2014\",\"query_count\":\"8\",\"query_text\":\"google fiber\"}\\n,{\"month_name\":\"February\",\"year\":\"2014\",\"query_count\":\"8\",\"query_text\":\"investment committee minutes\"}\\n,{\"month_name\":\"February\",\"year\":\"2014\",\"query_count\":\"8\",\"query_text\":\"metro council\"}\\n,{\"month_name\":\"February\",\"year\":\"2014\",\"query_count\":\"8\",\"query_text\":\"horseback riding\"}\\n,{\"month_name\":\"February\",\"year\":\"2014\",\"query_count\":\"8\",\"query_text\":\"gun\"}\\n,{\"month_name\":\"February\",\"year\":\"2014\",\"query_count\":\"8\",\"query_text\":\"death certificates\"}\\n,{\"month_name\":\"February\",\"year\":\"2014\",\"query_count\":\"8\",\"query_text\":\"name change\"}\\n,{\"month_name\":\"February\",\"year\":\"2014\",\"query_count\":\"8\",\"query_text\":\"improve security managment\"}\\n,{\"month_name\":\"February\",\"year\":\"2014\",\"query_count\":\"8\",\"query_text\":\"Water\"}\\n,{\"month_name\":\"February\",\"year\":\"2014\",\"query_count\":\"8\",\"query_text\":\"flood map\"}\\n,{\"month_name\":\"February\",\"year\":\"2014\",\"query_count\":\"8\",\"query_text\":\"synthetic\"}\\n,{\"month_name\":\"February\",\"year\":\"2014\",\"query_count\":\"8\",\"query_text\":\"driver accident report form\"}\\n,{\"month_name\":\"February\",\"year\":\"2014\",\"query_count\":\"8\",\"query_text\":\"salaries\"}\\n,{\"month_name\":\"February\",\"year\":\"2014\",\"query_count\":\"8\",\"query_text\":\"sheriff\\'s office\"}\\n,{\"month_name\":\"February\",\"year\":\"2014\",\"query_count\":\"8\",\"query_text\":\"ess.nashville.gov\"}\\n,{\"month_name\":\"February\",\"year\":\"2014\",\"query_count\":\"8\",\"query_text\":\"court clerk\"}\\n,{\"month_name\":\"February\",\"year\":\"2014\",\"query_count\":\"8\",\"query_text\":\"jury duty\"}\\n,{\"month_name\":\"February\",\"year\":\"2014\",\"query_count\":\"8\",\"query_text\":\"tax exempt\"}\\n,{\"month_name\":\"February\",\"year\":\"2014\",\"query_count\":\"8\",\"query_text\":\"ebid nashville\"}\\n,{\"month_name\":\"February\",\"year\":\"2014\",\"query_count\":\"8\",\"query_text\":\"pawn\"}\\n,{\"month_name\":\"February\",\"year\":\"2014\",\"query_count\":\"8\",\"query_text\":\"dog license\"}\\n,{\"month_name\":\"February\",\"year\":\"2014\",\"query_count\":\"8\",\"query_text\":\"vital records\"}\\n,{\"month_name\":\"February\",\"year\":\"2014\",\"query_count\":\"8\",\"query_text\":\"rabies clinic\"}\\n,{\"month_name\":\"February\",\"year\":\"2014\",\"query_count\":\"8\",\"query_text\":\"fire\"}\\n,{\"month_name\":\"February\",\"year\":\"2014\",\"query_count\":\"8\",\"query_text\":\"quitclaim\"}\\n,{\"month_name\":\"February\",\"year\":\"2014\",\"query_count\":\"8\",\"query_text\":\"Metro water\"}\\n,{\"month_name\":\"February\",\"year\":\"2014\",\"query_count\":\"8\",\"query_text\":\"gis mapping\"}\\n,{\"month_name\":\"February\",\"year\":\"2014\",\"query_count\":\"8\",\"query_text\":\"vehicle age\"}\\n,{\"month_name\":\"February\",\"year\":\"2014\",\"query_count\":\"8\",\"query_text\":\"google maps\"}\\n,{\"month_name\":\"February\",\"year\":\"2014\",\"query_count\":\"8\",\"query_text\":\"No knock\"}\\n,{\"month_name\":\"February\",\"year\":\"2014\",\"query_count\":\"8\",\"query_text\":\"policy manual\"}\\n,{\"month_name\":\"February\",\"year\":\"2014\",\"query_count\":\"8\",\"query_text\":\"records\"}\\n,{\"month_name\":\"February\",\"year\":\"2014\",\"query_count\":\"8\",\"query_text\":\"flood\"}\\n,{\"month_name\":\"February\",\"year\":\"2014\",\"query_count\":\"7\",\"query_text\":\"Christopher key\"}\\n,{\"month_name\":\"February\",\"year\":\"2014\",\"query_count\":\"7\",\"query_text\":\"birth certificates\"}\\n,{\"month_name\":\"February\",\"year\":\"2014\",\"query_count\":\"7\",\"query_text\":\"nashvitality\"}\\n,{\"month_name\":\"February\",\"year\":\"2014\",\"query_count\":\"7\",\"query_text\":\"development tracker\"}\\n,{\"month_name\":\"February\",\"year\":\"2014\",\"query_count\":\"7\",\"query_text\":\"microsoft office\"}\\n,{\"month_name\":\"February\",\"year\":\"2014\",\"query_count\":\"7\",\"query_text\":\"Accident\"}\\n,{\"month_name\":\"February\",\"year\":\"2014\",\"query_count\":\"7\",\"query_text\":\"omni hotel\"}\\n,{\"month_name\":\"February\",\"year\":\"2014\",\"query_count\":\"7\",\"query_text\":\"tax schedule b 2014\"}\\n,{\"month_name\":\"February\",\"year\":\"2014\",\"query_count\":\"7\",\"query_text\":\"sportsplex\"}\\n,{\"month_name\":\"February\",\"year\":\"2014\",\"query_count\":\"7\",\"query_text\":\"mayor executive orders\"}\\n,{\"month_name\":\"February\",\"year\":\"2014\",\"query_count\":\"7\",\"query_text\":\"Auction\"}\\n,{\"month_name\":\"February\",\"year\":\"2014\",\"query_count\":\"7\",\"query_text\":\"case\"}\\n,{\"month_name\":\"February\",\"year\":\"2014\",\"query_count\":\"7\",\"query_text\":\"knoxville\"}\\n,{\"month_name\":\"February\",\"year\":\"2014\",\"query_count\":\"7\",\"query_text\":\"daily arrest list\"}\\n,{\"month_name\":\"February\",\"year\":\"2014\",\"query_count\":\"7\",\"query_text\":\"office support specialist\"}\\n,{\"month_name\":\"February\",\"year\":\"2014\",\"query_count\":\"7\",\"query_text\":\"electrical contractor requirements\"}\\n,{\"month_name\":\"February\",\"year\":\"2014\",\"query_count\":\"7\",\"query_text\":\"wedding\"}\\n,{\"month_name\":\"February\",\"year\":\"2014\",\"query_count\":\"7\",\"query_text\":\"job opportunities\"}\\n,{\"month_name\":\"February\",\"year\":\"2014\",\"query_count\":\"7\",\"query_text\":\"wanted\"}\\n,{\"month_name\":\"February\",\"year\":\"2014\",\"query_count\":\"7\",\"query_text\":\"robert ezell\"}\\n,{\"month_name\":\"February\",\"year\":\"2014\",\"query_count\":\"7\",\"query_text\":\"parks and recreation\"}\\n,{\"month_name\":\"February\",\"year\":\"2014\",\"query_count\":\"7\",\"query_text\":\"zoning designations\"}\\n,{\"month_name\":\"February\",\"year\":\"2014\",\"query_count\":\"7\",\"query_text\":\"order of protection\"}\\n,{\"month_name\":\"February\",\"year\":\"2014\",\"query_count\":\"7\",\"query_text\":\"election petition\"}\\n,{\"month_name\":\"February\",\"year\":\"2014\",\"query_count\":\"7\",\"query_text\":\"Careers\"}\\n,{\"month_name\":\"February\",\"year\":\"2014\",\"query_count\":\"7\",\"query_text\":\"traffic violations\"}\\n,{\"month_name\":\"February\",\"year\":\"2014\",\"query_count\":\"7\",\"query_text\":\"Police media release\"}\\n,{\"month_name\":\"February\",\"year\":\"2014\",\"query_count\":\"7\",\"query_text\":\"Accident reports\"}\\n,{\"month_name\":\"February\",\"year\":\"2014\",\"query_count\":\"7\",\"query_text\":\"public records request\"}\\n,{\"month_name\":\"February\",\"year\":\"2014\",\"query_count\":\"7\",\"query_text\":\"police surveillance cameras\"}\\n,{\"month_name\":\"February\",\"year\":\"2014\",\"query_count\":\"7\",\"query_text\":\"metro jobs\"}\\n,{\"month_name\":\"February\",\"year\":\"2014\",\"query_count\":\"7\",\"query_text\":\"insurance\"}\\n,{\"month_name\":\"February\",\"year\":\"2014\",\"query_count\":\"7\",\"query_text\":\"burn permits\"}\\n,{\"month_name\":\"February\",\"year\":\"2014\",\"query_count\":\"7\",\"query_text\":\"deed\"}\\n,{\"month_name\":\"February\",\"year\":\"2014\",\"query_count\":\"7\",\"query_text\":\"inclement weather policy for employees\"}\\n,{\"month_name\":\"February\",\"year\":\"2014\",\"query_count\":\"7\",\"query_text\":\"arts\"}\\n,{\"month_name\":\"February\",\"year\":\"2014\",\"query_count\":\"7\",\"query_text\":\"tax sale\"}\\n,{\"month_name\":\"February\",\"year\":\"2014\",\"query_count\":\"7\",\"query_text\":\"unitedway\"}\\n,{\"month_name\":\"February\",\"year\":\"2014\",\"query_count\":\"7\",\"query_text\":\"Anthony\"}\\n,{\"month_name\":\"February\",\"year\":\"2014\",\"query_count\":\"7\",\"query_text\":\"clerk\"}\\n,{\"month_name\":\"February\",\"year\":\"2014\",\"query_count\":\"7\",\"query_text\":\"electrical permit\"}\\n,{\"month_name\":\"February\",\"year\":\"2014\",\"query_count\":\"7\",\"query_text\":\"shelby park\"}\\n,{\"month_name\":\"February\",\"year\":\"2014\",\"query_count\":\"7\",\"query_text\":\"case 2014-21\"}\\n,{\"month_name\":\"February\",\"year\":\"2014\",\"query_count\":\"7\",\"query_text\":\"pay ticket\"}\\n,{\"month_name\":\"February\",\"year\":\"2014\",\"query_count\":\"7\",\"query_text\":\"bond\"}\\n,{\"month_name\":\"February\",\"year\":\"2014\",\"query_count\":\"7\",\"query_text\":\"pay taxes\"}\\n,{\"month_name\":\"February\",\"year\":\"2014\",\"query_count\":\"7\",\"query_text\":\"Accident report\"}\\n,{\"month_name\":\"February\",\"year\":\"2014\",\"query_count\":\"7\",\"query_text\":\"public record\"}\\n,{\"month_name\":\"February\",\"year\":\"2014\",\"query_count\":\"7\",\"query_text\":\"eap\"}\\n,{\"month_name\":\"February\",\"year\":\"2014\",\"query_count\":\"7\",\"query_text\":\"environmental court\"}\\n,{\"month_name\":\"February\",\"year\":\"2014\",\"query_count\":\"7\",\"query_text\":\"Convention Center Authority\"}\\n,{\"month_name\":\"February\",\"year\":\"2014\",\"query_count\":\"7\",\"query_text\":\"general sessions\"}\\n,{\"month_name\":\"February\",\"year\":\"2014\",\"query_count\":\"7\",\"query_text\":\"brush pick up\"}\\n,{\"month_name\":\"February\",\"year\":\"2014\",\"query_count\":\"7\",\"query_text\":\"sulpher dell\"}\\n,{\"month_name\":\"February\",\"year\":\"2014\",\"query_count\":\"7\",\"query_text\":\"sex offender office\"}\\n,{\"month_name\":\"February\",\"year\":\"2014\",\"query_count\":\"7\",\"query_text\":\"pay property taxes online\"}\\n,{\"month_name\":\"February\",\"year\":\"2014\",\"query_count\":\"7\",\"query_text\":\"community centers\"}\\n,{\"month_name\":\"February\",\"year\":\"2014\",\"query_count\":\"7\",\"query_text\":\"zoning appeals\"}\\n,{\"month_name\":\"February\",\"year\":\"2014\",\"query_count\":\"7\",\"query_text\":\"car auction\"}\\n,{\"month_name\":\"February\",\"year\":\"2014\",\"query_count\":\"7\",\"query_text\":\"business license information\"}\\n,{\"month_name\":\"February\",\"year\":\"2014\",\"query_count\":\"7\",\"query_text\":\"demographics\"}\\n,{\"month_name\":\"February\",\"year\":\"2014\",\"query_count\":\"7\",\"query_text\":\"report accident\"}\\n,{\"month_name\":\"February\",\"year\":\"2014\",\"query_count\":\"7\",\"query_text\":\"fire marshal\"}\\n,{\"month_name\":\"February\",\"year\":\"2014\",\"query_count\":\"7\",\"query_text\":\"pay stubs\"}\\n,{\"month_name\":\"February\",\"year\":\"2014\",\"query_count\":\"7\",\"query_text\":\"school lunch menu\"}\\n,{\"month_name\":\"February\",\"year\":\"2014\",\"query_count\":\"7\",\"query_text\":\"contractors permit bond\"}\\n,{\"month_name\":\"February\",\"year\":\"2014\",\"query_count\":\"7\",\"query_text\":\"media\"}\\n,{\"month_name\":\"February\",\"year\":\"2014\",\"query_count\":\"7\",\"query_text\":\"pay plan\"}]\\n'"
      ]
     },
     "execution_count": 6,
     "metadata": {},
     "output_type": "execute_result"
    }
   ],
   "source": [
    "response.text"
   ]
  },
  {
   "cell_type": "markdown",
   "id": "abd1cb41",
   "metadata": {},
   "source": [
    "## 1. Make an API request that returns the months where \"fire\" was searched in 2016. Which month had the most searches?"
   ]
  },
  {
   "cell_type": "markdown",
   "id": "9c799e53",
   "metadata": {},
   "source": [
    "### Answer: August 2016"
   ]
  },
  {
   "cell_type": "code",
   "execution_count": 7,
   "id": "28fa13ff",
   "metadata": {},
   "outputs": [],
   "source": [
    "endpointfire2016 = 'https://data.nashville.gov/resource/fuaa-r5cm.json?year=2016&query_text=fire'"
   ]
  },
  {
   "cell_type": "code",
   "execution_count": 8,
   "id": "6c16764a",
   "metadata": {},
   "outputs": [],
   "source": [
    "fire2016 = requests.get(endpointfire2016)"
   ]
  },
  {
   "cell_type": "code",
   "execution_count": 9,
   "id": "06c4fdb2",
   "metadata": {},
   "outputs": [
    {
     "name": "stdout",
     "output_type": "stream",
     "text": [
      "<Response [200]>\n"
     ]
    }
   ],
   "source": [
    "print(fire2016)"
   ]
  },
  {
   "cell_type": "code",
   "execution_count": 10,
   "id": "518f3b76",
   "metadata": {},
   "outputs": [
    {
     "data": {
      "text/plain": [
       "'[{\"month_name\":\"January\",\"year\":\"2016\",\"query_count\":\"19\",\"query_text\":\"fire\"}\\n,{\"month_name\":\"February\",\"year\":\"2016\",\"query_count\":\"35\",\"query_text\":\"fire\"}\\n,{\"month_name\":\"March\",\"year\":\"2016\",\"query_count\":\"32\",\"query_text\":\"fire\"}\\n,{\"month_name\":\"April\",\"year\":\"2016\",\"query_count\":\"26\",\"query_text\":\"fire\"}\\n,{\"month_name\":\"May\",\"year\":\"2016\",\"query_count\":\"24\",\"query_text\":\"fire\"}\\n,{\"month_name\":\"June\",\"year\":\"2016\",\"query_count\":\"31\",\"query_text\":\"fire\"}\\n,{\"month_name\":\"July\",\"year\":\"2016\",\"query_count\":\"24\",\"query_text\":\"fire\"}\\n,{\"month_name\":\"August\",\"year\":\"2016\",\"query_count\":\"47\",\"query_text\":\"fire\"}\\n,{\"month_name\":\"September\",\"year\":\"2016\",\"query_count\":\"36\",\"query_text\":\"fire\"}\\n,{\"month_name\":\"October\",\"year\":\"2016\",\"query_count\":\"38\",\"query_text\":\"fire\"}\\n,{\"month_name\":\"November\",\"year\":\"2016\",\"query_count\":\"32\",\"query_text\":\"fire\"}\\n,{\"month_name\":\"December\",\"year\":\"2016\",\"query_count\":\"38\",\"query_text\":\"fire\"}]\\n'"
      ]
     },
     "execution_count": 10,
     "metadata": {},
     "output_type": "execute_result"
    }
   ],
   "source": [
    "fire2016.text"
   ]
  },
  {
   "cell_type": "code",
   "execution_count": 11,
   "id": "c7667dfb",
   "metadata": {},
   "outputs": [],
   "source": [
    "#https://dev.socrata.com/blog/2016/02/01/pandas-and-jupyter-notebook.html\n",
    "fire2016 = pd.read_json('https://data.nashville.gov/resource/fuaa-r5cm.json?year=2016&query_text=fire')"
   ]
  },
  {
   "cell_type": "code",
   "execution_count": 12,
   "id": "ef89afdd",
   "metadata": {},
   "outputs": [
    {
     "data": {
      "text/html": [
       "<div>\n",
       "<style scoped>\n",
       "    .dataframe tbody tr th:only-of-type {\n",
       "        vertical-align: middle;\n",
       "    }\n",
       "\n",
       "    .dataframe tbody tr th {\n",
       "        vertical-align: top;\n",
       "    }\n",
       "\n",
       "    .dataframe thead th {\n",
       "        text-align: right;\n",
       "    }\n",
       "</style>\n",
       "<table border=\"1\" class=\"dataframe\">\n",
       "  <thead>\n",
       "    <tr style=\"text-align: right;\">\n",
       "      <th></th>\n",
       "      <th>month_name</th>\n",
       "      <th>year</th>\n",
       "      <th>query_count</th>\n",
       "      <th>query_text</th>\n",
       "    </tr>\n",
       "  </thead>\n",
       "  <tbody>\n",
       "    <tr>\n",
       "      <th>0</th>\n",
       "      <td>January</td>\n",
       "      <td>2016</td>\n",
       "      <td>19</td>\n",
       "      <td>fire</td>\n",
       "    </tr>\n",
       "    <tr>\n",
       "      <th>1</th>\n",
       "      <td>February</td>\n",
       "      <td>2016</td>\n",
       "      <td>35</td>\n",
       "      <td>fire</td>\n",
       "    </tr>\n",
       "    <tr>\n",
       "      <th>2</th>\n",
       "      <td>March</td>\n",
       "      <td>2016</td>\n",
       "      <td>32</td>\n",
       "      <td>fire</td>\n",
       "    </tr>\n",
       "    <tr>\n",
       "      <th>3</th>\n",
       "      <td>April</td>\n",
       "      <td>2016</td>\n",
       "      <td>26</td>\n",
       "      <td>fire</td>\n",
       "    </tr>\n",
       "    <tr>\n",
       "      <th>4</th>\n",
       "      <td>May</td>\n",
       "      <td>2016</td>\n",
       "      <td>24</td>\n",
       "      <td>fire</td>\n",
       "    </tr>\n",
       "  </tbody>\n",
       "</table>\n",
       "</div>"
      ],
      "text/plain": [
       "  month_name  year  query_count query_text\n",
       "0    January  2016           19       fire\n",
       "1   February  2016           35       fire\n",
       "2      March  2016           32       fire\n",
       "3      April  2016           26       fire\n",
       "4        May  2016           24       fire"
      ]
     },
     "execution_count": 12,
     "metadata": {},
     "output_type": "execute_result"
    }
   ],
   "source": [
    "fire2016.head()"
   ]
  },
  {
   "cell_type": "code",
   "execution_count": 13,
   "id": "8df55ede",
   "metadata": {},
   "outputs": [
    {
     "data": {
      "text/html": [
       "<div>\n",
       "<style scoped>\n",
       "    .dataframe tbody tr th:only-of-type {\n",
       "        vertical-align: middle;\n",
       "    }\n",
       "\n",
       "    .dataframe tbody tr th {\n",
       "        vertical-align: top;\n",
       "    }\n",
       "\n",
       "    .dataframe thead th {\n",
       "        text-align: right;\n",
       "    }\n",
       "</style>\n",
       "<table border=\"1\" class=\"dataframe\">\n",
       "  <thead>\n",
       "    <tr style=\"text-align: right;\">\n",
       "      <th></th>\n",
       "      <th>month_name</th>\n",
       "      <th>year</th>\n",
       "      <th>query_count</th>\n",
       "      <th>query_text</th>\n",
       "    </tr>\n",
       "  </thead>\n",
       "  <tbody>\n",
       "    <tr>\n",
       "      <th>7</th>\n",
       "      <td>August</td>\n",
       "      <td>2016</td>\n",
       "      <td>47</td>\n",
       "      <td>fire</td>\n",
       "    </tr>\n",
       "    <tr>\n",
       "      <th>9</th>\n",
       "      <td>October</td>\n",
       "      <td>2016</td>\n",
       "      <td>38</td>\n",
       "      <td>fire</td>\n",
       "    </tr>\n",
       "    <tr>\n",
       "      <th>11</th>\n",
       "      <td>December</td>\n",
       "      <td>2016</td>\n",
       "      <td>38</td>\n",
       "      <td>fire</td>\n",
       "    </tr>\n",
       "    <tr>\n",
       "      <th>8</th>\n",
       "      <td>September</td>\n",
       "      <td>2016</td>\n",
       "      <td>36</td>\n",
       "      <td>fire</td>\n",
       "    </tr>\n",
       "    <tr>\n",
       "      <th>1</th>\n",
       "      <td>February</td>\n",
       "      <td>2016</td>\n",
       "      <td>35</td>\n",
       "      <td>fire</td>\n",
       "    </tr>\n",
       "  </tbody>\n",
       "</table>\n",
       "</div>"
      ],
      "text/plain": [
       "   month_name  year  query_count query_text\n",
       "7      August  2016           47       fire\n",
       "9     October  2016           38       fire\n",
       "11   December  2016           38       fire\n",
       "8   September  2016           36       fire\n",
       "1    February  2016           35       fire"
      ]
     },
     "execution_count": 13,
     "metadata": {},
     "output_type": "execute_result"
    }
   ],
   "source": [
    "fire2016 = fire2016.sort_values(by=['query_count'], ascending=False)\n",
    "fire2016.head()"
   ]
  },
  {
   "cell_type": "markdown",
   "id": "6468729a",
   "metadata": {},
   "source": [
    "## 2. Make an API request that returns all the times a query was run more than 100 times in a month. How many times did this occur?"
   ]
  },
  {
   "cell_type": "markdown",
   "id": "4a8942c7",
   "metadata": {},
   "source": [
    "### Answer: 1,262"
   ]
  },
  {
   "cell_type": "code",
   "execution_count": 14,
   "id": "345f94d4",
   "metadata": {},
   "outputs": [],
   "source": [
    "#adjusted code based on solution found by jasmine drumright\n",
    "#https://stackoverflow.com/questions/27823200/is-there-a-socrata-api-method-to-get-the-row-count-of-a-dataset\n",
    "query100endpoint = 'https://data.nashville.gov/resource/fuaa-r5cm.json?$select=count(*)&$where=query_count>100'"
   ]
  },
  {
   "cell_type": "code",
   "execution_count": 15,
   "id": "193404cf",
   "metadata": {},
   "outputs": [
    {
     "name": "stdout",
     "output_type": "stream",
     "text": [
      "<Response [200]>\n"
     ]
    }
   ],
   "source": [
    "query100 = requests.get(query100endpoint)\n",
    "print(query100)"
   ]
  },
  {
   "cell_type": "code",
   "execution_count": 16,
   "id": "ba75c48a",
   "metadata": {},
   "outputs": [
    {
     "data": {
      "text/plain": [
       "'[{\"count\":\"1262\"}]\\n'"
      ]
     },
     "execution_count": 16,
     "metadata": {},
     "output_type": "execute_result"
    }
   ],
   "source": [
    "query100.text"
   ]
  },
  {
   "cell_type": "markdown",
   "id": "805780c2",
   "metadata": {},
   "source": [
    "## 3. Make another API request that returns all the times \"codes\" was searched more than 100 times in a month. How many times did this occur?"
   ]
  },
  {
   "cell_type": "markdown",
   "id": "b2f0dc2f",
   "metadata": {},
   "source": [
    "### Answer: 56"
   ]
  },
  {
   "cell_type": "code",
   "execution_count": 17,
   "id": "e6cf1ebb",
   "metadata": {},
   "outputs": [],
   "source": [
    "#\"select=count(*)\" added based on patrick c's code\n",
    "code100endpoint = 'https://data.nashville.gov/resource/fuaa-r5cm.json?$select=count(*)&$where=query_text= \"codes\" AND query_count>100'"
   ]
  },
  {
   "cell_type": "code",
   "execution_count": 18,
   "id": "b96a1041",
   "metadata": {},
   "outputs": [
    {
     "name": "stdout",
     "output_type": "stream",
     "text": [
      "<Response [200]>\n"
     ]
    }
   ],
   "source": [
    "code100 = requests.get(code100endpoint)\n",
    "print(code100)"
   ]
  },
  {
   "cell_type": "code",
   "execution_count": 19,
   "id": "bf5c8616",
   "metadata": {},
   "outputs": [
    {
     "data": {
      "text/plain": [
       "'[{\"count\":\"56\"}]\\n'"
      ]
     },
     "execution_count": 19,
     "metadata": {},
     "output_type": "execute_result"
    }
   ],
   "source": [
    "code100.text"
   ]
  },
  {
   "cell_type": "markdown",
   "id": "9f125fd5",
   "metadata": {},
   "source": [
    "## 4. Make an API request that returns the entire Top 500 Monthly Searches dataset. Make a chart that shows the number of times \"maps\" was searched in a month across the entire time frame."
   ]
  },
  {
   "cell_type": "code",
   "execution_count": 20,
   "id": "567d443b",
   "metadata": {},
   "outputs": [],
   "source": [
    "#added \"$limit=50000\" based on jasmine & maggie d's code\n",
    "endpoint = 'https://data.nashville.gov/resource/fuaa-r5cm.json?$limit=50000'"
   ]
  },
  {
   "cell_type": "code",
   "execution_count": 21,
   "id": "a9fe52b4",
   "metadata": {},
   "outputs": [],
   "source": [
    "response = requests.get(endpoint)"
   ]
  },
  {
   "cell_type": "code",
   "execution_count": 22,
   "id": "d381eb3e",
   "metadata": {},
   "outputs": [
    {
     "data": {
      "text/plain": [
       "<Response [200]>"
      ]
     },
     "execution_count": 22,
     "metadata": {},
     "output_type": "execute_result"
    }
   ],
   "source": [
    "response"
   ]
  },
  {
   "cell_type": "code",
   "execution_count": 23,
   "id": "8fd728eb",
   "metadata": {},
   "outputs": [],
   "source": [
    "response = pd.read_json('https://data.nashville.gov/resource/fuaa-r5cm.json?$limit=50000')"
   ]
  },
  {
   "cell_type": "code",
   "execution_count": 24,
   "id": "19aaeeda",
   "metadata": {},
   "outputs": [
    {
     "name": "stdout",
     "output_type": "stream",
     "text": [
      "<class 'pandas.core.frame.DataFrame'>\n",
      "RangeIndex: 43677 entries, 0 to 43676\n",
      "Data columns (total 5 columns):\n",
      " #   Column       Non-Null Count  Dtype  \n",
      "---  ------       --------------  -----  \n",
      " 0   month_name   43677 non-null  object \n",
      " 1   year         43677 non-null  int64  \n",
      " 2   query_count  43676 non-null  float64\n",
      " 3   query_text   43677 non-null  object \n",
      " 4   month        15177 non-null  float64\n",
      "dtypes: float64(2), int64(1), object(2)\n",
      "memory usage: 1.7+ MB\n"
     ]
    }
   ],
   "source": [
    "response.info()"
   ]
  },
  {
   "cell_type": "code",
   "execution_count": 25,
   "id": "ec7124e5",
   "metadata": {},
   "outputs": [
    {
     "data": {
      "text/html": [
       "<div>\n",
       "<style scoped>\n",
       "    .dataframe tbody tr th:only-of-type {\n",
       "        vertical-align: middle;\n",
       "    }\n",
       "\n",
       "    .dataframe tbody tr th {\n",
       "        vertical-align: top;\n",
       "    }\n",
       "\n",
       "    .dataframe thead th {\n",
       "        text-align: right;\n",
       "    }\n",
       "</style>\n",
       "<table border=\"1\" class=\"dataframe\">\n",
       "  <thead>\n",
       "    <tr style=\"text-align: right;\">\n",
       "      <th></th>\n",
       "      <th>month_name</th>\n",
       "      <th>year</th>\n",
       "      <th>query_count</th>\n",
       "      <th>query_text</th>\n",
       "      <th>month</th>\n",
       "    </tr>\n",
       "  </thead>\n",
       "  <tbody>\n",
       "    <tr>\n",
       "      <th>0</th>\n",
       "      <td>January</td>\n",
       "      <td>2014</td>\n",
       "      <td>223.0</td>\n",
       "      <td>ebid</td>\n",
       "      <td>NaN</td>\n",
       "    </tr>\n",
       "    <tr>\n",
       "      <th>1</th>\n",
       "      <td>January</td>\n",
       "      <td>2014</td>\n",
       "      <td>112.0</td>\n",
       "      <td>property maps</td>\n",
       "      <td>NaN</td>\n",
       "    </tr>\n",
       "    <tr>\n",
       "      <th>2</th>\n",
       "      <td>January</td>\n",
       "      <td>2014</td>\n",
       "      <td>97.0</td>\n",
       "      <td>maps</td>\n",
       "      <td>NaN</td>\n",
       "    </tr>\n",
       "    <tr>\n",
       "      <th>3</th>\n",
       "      <td>January</td>\n",
       "      <td>2014</td>\n",
       "      <td>90.0</td>\n",
       "      <td>property tax</td>\n",
       "      <td>NaN</td>\n",
       "    </tr>\n",
       "    <tr>\n",
       "      <th>4</th>\n",
       "      <td>January</td>\n",
       "      <td>2014</td>\n",
       "      <td>76.0</td>\n",
       "      <td>jobs</td>\n",
       "      <td>NaN</td>\n",
       "    </tr>\n",
       "    <tr>\n",
       "      <th>5</th>\n",
       "      <td>January</td>\n",
       "      <td>2014</td>\n",
       "      <td>75.0</td>\n",
       "      <td>employment</td>\n",
       "      <td>NaN</td>\n",
       "    </tr>\n",
       "    <tr>\n",
       "      <th>6</th>\n",
       "      <td>January</td>\n",
       "      <td>2014</td>\n",
       "      <td>73.0</td>\n",
       "      <td>human resources</td>\n",
       "      <td>NaN</td>\n",
       "    </tr>\n",
       "    <tr>\n",
       "      <th>7</th>\n",
       "      <td>January</td>\n",
       "      <td>2014</td>\n",
       "      <td>62.0</td>\n",
       "      <td>police</td>\n",
       "      <td>NaN</td>\n",
       "    </tr>\n",
       "    <tr>\n",
       "      <th>8</th>\n",
       "      <td>January</td>\n",
       "      <td>2014</td>\n",
       "      <td>61.0</td>\n",
       "      <td>criminal court clerk</td>\n",
       "      <td>NaN</td>\n",
       "    </tr>\n",
       "    <tr>\n",
       "      <th>9</th>\n",
       "      <td>January</td>\n",
       "      <td>2014</td>\n",
       "      <td>53.0</td>\n",
       "      <td>media releases</td>\n",
       "      <td>NaN</td>\n",
       "    </tr>\n",
       "    <tr>\n",
       "      <th>10</th>\n",
       "      <td>January</td>\n",
       "      <td>2014</td>\n",
       "      <td>50.0</td>\n",
       "      <td>property taxes</td>\n",
       "      <td>NaN</td>\n",
       "    </tr>\n",
       "    <tr>\n",
       "      <th>11</th>\n",
       "      <td>January</td>\n",
       "      <td>2014</td>\n",
       "      <td>49.0</td>\n",
       "      <td>gis</td>\n",
       "      <td>NaN</td>\n",
       "    </tr>\n",
       "    <tr>\n",
       "      <th>12</th>\n",
       "      <td>January</td>\n",
       "      <td>2014</td>\n",
       "      <td>46.0</td>\n",
       "      <td>animal control</td>\n",
       "      <td>NaN</td>\n",
       "    </tr>\n",
       "    <tr>\n",
       "      <th>13</th>\n",
       "      <td>January</td>\n",
       "      <td>2014</td>\n",
       "      <td>46.0</td>\n",
       "      <td>traffic signal optimization study</td>\n",
       "      <td>NaN</td>\n",
       "    </tr>\n",
       "    <tr>\n",
       "      <th>14</th>\n",
       "      <td>January</td>\n",
       "      <td>2014</td>\n",
       "      <td>46.0</td>\n",
       "      <td>arrest records</td>\n",
       "      <td>NaN</td>\n",
       "    </tr>\n",
       "    <tr>\n",
       "      <th>15</th>\n",
       "      <td>January</td>\n",
       "      <td>2014</td>\n",
       "      <td>45.0</td>\n",
       "      <td>property assessor</td>\n",
       "      <td>NaN</td>\n",
       "    </tr>\n",
       "    <tr>\n",
       "      <th>16</th>\n",
       "      <td>January</td>\n",
       "      <td>2014</td>\n",
       "      <td>44.0</td>\n",
       "      <td>ess</td>\n",
       "      <td>NaN</td>\n",
       "    </tr>\n",
       "    <tr>\n",
       "      <th>17</th>\n",
       "      <td>January</td>\n",
       "      <td>2014</td>\n",
       "      <td>41.0</td>\n",
       "      <td>water</td>\n",
       "      <td>NaN</td>\n",
       "    </tr>\n",
       "    <tr>\n",
       "      <th>18</th>\n",
       "      <td>January</td>\n",
       "      <td>2014</td>\n",
       "      <td>41.0</td>\n",
       "      <td>zoning</td>\n",
       "      <td>NaN</td>\n",
       "    </tr>\n",
       "    <tr>\n",
       "      <th>19</th>\n",
       "      <td>January</td>\n",
       "      <td>2014</td>\n",
       "      <td>37.0</td>\n",
       "      <td>codes</td>\n",
       "      <td>NaN</td>\n",
       "    </tr>\n",
       "    <tr>\n",
       "      <th>20</th>\n",
       "      <td>January</td>\n",
       "      <td>2014</td>\n",
       "      <td>35.0</td>\n",
       "      <td>criminal court</td>\n",
       "      <td>NaN</td>\n",
       "    </tr>\n",
       "    <tr>\n",
       "      <th>21</th>\n",
       "      <td>January</td>\n",
       "      <td>2014</td>\n",
       "      <td>35.0</td>\n",
       "      <td>inside metro</td>\n",
       "      <td>NaN</td>\n",
       "    </tr>\n",
       "    <tr>\n",
       "      <th>22</th>\n",
       "      <td>January</td>\n",
       "      <td>2014</td>\n",
       "      <td>33.0</td>\n",
       "      <td>parking</td>\n",
       "      <td>NaN</td>\n",
       "    </tr>\n",
       "    <tr>\n",
       "      <th>23</th>\n",
       "      <td>January</td>\n",
       "      <td>2014</td>\n",
       "      <td>30.0</td>\n",
       "      <td>employee self service</td>\n",
       "      <td>NaN</td>\n",
       "    </tr>\n",
       "    <tr>\n",
       "      <th>24</th>\n",
       "      <td>January</td>\n",
       "      <td>2014</td>\n",
       "      <td>29.0</td>\n",
       "      <td>library</td>\n",
       "      <td>NaN</td>\n",
       "    </tr>\n",
       "    <tr>\n",
       "      <th>25</th>\n",
       "      <td>January</td>\n",
       "      <td>2014</td>\n",
       "      <td>29.0</td>\n",
       "      <td>bidding</td>\n",
       "      <td>NaN</td>\n",
       "    </tr>\n",
       "    <tr>\n",
       "      <th>26</th>\n",
       "      <td>January</td>\n",
       "      <td>2014</td>\n",
       "      <td>28.0</td>\n",
       "      <td>accident report</td>\n",
       "      <td>NaN</td>\n",
       "    </tr>\n",
       "    <tr>\n",
       "      <th>27</th>\n",
       "      <td>January</td>\n",
       "      <td>2014</td>\n",
       "      <td>28.0</td>\n",
       "      <td>planning</td>\n",
       "      <td>NaN</td>\n",
       "    </tr>\n",
       "    <tr>\n",
       "      <th>28</th>\n",
       "      <td>January</td>\n",
       "      <td>2014</td>\n",
       "      <td>28.0</td>\n",
       "      <td>pump station</td>\n",
       "      <td>NaN</td>\n",
       "    </tr>\n",
       "    <tr>\n",
       "      <th>29</th>\n",
       "      <td>January</td>\n",
       "      <td>2014</td>\n",
       "      <td>27.0</td>\n",
       "      <td>payroll</td>\n",
       "      <td>NaN</td>\n",
       "    </tr>\n",
       "    <tr>\n",
       "      <th>30</th>\n",
       "      <td>January</td>\n",
       "      <td>2014</td>\n",
       "      <td>27.0</td>\n",
       "      <td>google</td>\n",
       "      <td>NaN</td>\n",
       "    </tr>\n",
       "    <tr>\n",
       "      <th>31</th>\n",
       "      <td>January</td>\n",
       "      <td>2014</td>\n",
       "      <td>27.0</td>\n",
       "      <td>property</td>\n",
       "      <td>NaN</td>\n",
       "    </tr>\n",
       "    <tr>\n",
       "      <th>32</th>\n",
       "      <td>January</td>\n",
       "      <td>2014</td>\n",
       "      <td>26.0</td>\n",
       "      <td>register of deeds</td>\n",
       "      <td>NaN</td>\n",
       "    </tr>\n",
       "    <tr>\n",
       "      <th>33</th>\n",
       "      <td>January</td>\n",
       "      <td>2014</td>\n",
       "      <td>26.0</td>\n",
       "      <td>news media</td>\n",
       "      <td>NaN</td>\n",
       "    </tr>\n",
       "    <tr>\n",
       "      <th>34</th>\n",
       "      <td>January</td>\n",
       "      <td>2014</td>\n",
       "      <td>26.0</td>\n",
       "      <td>traffic management study</td>\n",
       "      <td>NaN</td>\n",
       "    </tr>\n",
       "    <tr>\n",
       "      <th>35</th>\n",
       "      <td>January</td>\n",
       "      <td>2014</td>\n",
       "      <td>26.0</td>\n",
       "      <td>business license</td>\n",
       "      <td>NaN</td>\n",
       "    </tr>\n",
       "    <tr>\n",
       "      <th>36</th>\n",
       "      <td>January</td>\n",
       "      <td>2014</td>\n",
       "      <td>25.0</td>\n",
       "      <td>warrants</td>\n",
       "      <td>NaN</td>\n",
       "    </tr>\n",
       "    <tr>\n",
       "      <th>37</th>\n",
       "      <td>January</td>\n",
       "      <td>2014</td>\n",
       "      <td>25.0</td>\n",
       "      <td>permits</td>\n",
       "      <td>NaN</td>\n",
       "    </tr>\n",
       "    <tr>\n",
       "      <th>38</th>\n",
       "      <td>January</td>\n",
       "      <td>2014</td>\n",
       "      <td>25.0</td>\n",
       "      <td>civil service rules</td>\n",
       "      <td>NaN</td>\n",
       "    </tr>\n",
       "    <tr>\n",
       "      <th>39</th>\n",
       "      <td>January</td>\n",
       "      <td>2014</td>\n",
       "      <td>24.0</td>\n",
       "      <td>inmate search</td>\n",
       "      <td>NaN</td>\n",
       "    </tr>\n",
       "    <tr>\n",
       "      <th>40</th>\n",
       "      <td>January</td>\n",
       "      <td>2014</td>\n",
       "      <td>24.0</td>\n",
       "      <td>civil service</td>\n",
       "      <td>NaN</td>\n",
       "    </tr>\n",
       "    <tr>\n",
       "      <th>41</th>\n",
       "      <td>January</td>\n",
       "      <td>2014</td>\n",
       "      <td>24.0</td>\n",
       "      <td>media release</td>\n",
       "      <td>NaN</td>\n",
       "    </tr>\n",
       "    <tr>\n",
       "      <th>42</th>\n",
       "      <td>January</td>\n",
       "      <td>2014</td>\n",
       "      <td>23.0</td>\n",
       "      <td>careers</td>\n",
       "      <td>NaN</td>\n",
       "    </tr>\n",
       "    <tr>\n",
       "      <th>43</th>\n",
       "      <td>January</td>\n",
       "      <td>2014</td>\n",
       "      <td>23.0</td>\n",
       "      <td>arrests</td>\n",
       "      <td>NaN</td>\n",
       "    </tr>\n",
       "    <tr>\n",
       "      <th>44</th>\n",
       "      <td>January</td>\n",
       "      <td>2014</td>\n",
       "      <td>23.0</td>\n",
       "      <td>police department</td>\n",
       "      <td>NaN</td>\n",
       "    </tr>\n",
       "    <tr>\n",
       "      <th>45</th>\n",
       "      <td>January</td>\n",
       "      <td>2014</td>\n",
       "      <td>22.0</td>\n",
       "      <td>associated bond</td>\n",
       "      <td>NaN</td>\n",
       "    </tr>\n",
       "    <tr>\n",
       "      <th>46</th>\n",
       "      <td>January</td>\n",
       "      <td>2014</td>\n",
       "      <td>22.0</td>\n",
       "      <td>procurement</td>\n",
       "      <td>NaN</td>\n",
       "    </tr>\n",
       "    <tr>\n",
       "      <th>47</th>\n",
       "      <td>January</td>\n",
       "      <td>2014</td>\n",
       "      <td>22.0</td>\n",
       "      <td>employment opportunities</td>\n",
       "      <td>NaN</td>\n",
       "    </tr>\n",
       "    <tr>\n",
       "      <th>48</th>\n",
       "      <td>January</td>\n",
       "      <td>2014</td>\n",
       "      <td>22.0</td>\n",
       "      <td>public works</td>\n",
       "      <td>NaN</td>\n",
       "    </tr>\n",
       "    <tr>\n",
       "      <th>49</th>\n",
       "      <td>January</td>\n",
       "      <td>2014</td>\n",
       "      <td>22.0</td>\n",
       "      <td>mugshots</td>\n",
       "      <td>NaN</td>\n",
       "    </tr>\n",
       "  </tbody>\n",
       "</table>\n",
       "</div>"
      ],
      "text/plain": [
       "   month_name  year  query_count                         query_text  month\n",
       "0     January  2014        223.0                               ebid    NaN\n",
       "1     January  2014        112.0                      property maps    NaN\n",
       "2     January  2014         97.0                               maps    NaN\n",
       "3     January  2014         90.0                       property tax    NaN\n",
       "4     January  2014         76.0                               jobs    NaN\n",
       "5     January  2014         75.0                         employment    NaN\n",
       "6     January  2014         73.0                    human resources    NaN\n",
       "7     January  2014         62.0                             police    NaN\n",
       "8     January  2014         61.0               criminal court clerk    NaN\n",
       "9     January  2014         53.0                     media releases    NaN\n",
       "10    January  2014         50.0                     property taxes    NaN\n",
       "11    January  2014         49.0                                gis    NaN\n",
       "12    January  2014         46.0                     animal control    NaN\n",
       "13    January  2014         46.0  traffic signal optimization study    NaN\n",
       "14    January  2014         46.0                     arrest records    NaN\n",
       "15    January  2014         45.0                  property assessor    NaN\n",
       "16    January  2014         44.0                                ess    NaN\n",
       "17    January  2014         41.0                              water    NaN\n",
       "18    January  2014         41.0                             zoning    NaN\n",
       "19    January  2014         37.0                              codes    NaN\n",
       "20    January  2014         35.0                     criminal court    NaN\n",
       "21    January  2014         35.0                       inside metro    NaN\n",
       "22    January  2014         33.0                            parking    NaN\n",
       "23    January  2014         30.0              employee self service    NaN\n",
       "24    January  2014         29.0                            library    NaN\n",
       "25    January  2014         29.0                            bidding    NaN\n",
       "26    January  2014         28.0                    accident report    NaN\n",
       "27    January  2014         28.0                           planning    NaN\n",
       "28    January  2014         28.0                       pump station    NaN\n",
       "29    January  2014         27.0                            payroll    NaN\n",
       "30    January  2014         27.0                             google    NaN\n",
       "31    January  2014         27.0                           property    NaN\n",
       "32    January  2014         26.0                  register of deeds    NaN\n",
       "33    January  2014         26.0                         news media    NaN\n",
       "34    January  2014         26.0           traffic management study    NaN\n",
       "35    January  2014         26.0                   business license    NaN\n",
       "36    January  2014         25.0                           warrants    NaN\n",
       "37    January  2014         25.0                            permits    NaN\n",
       "38    January  2014         25.0                civil service rules    NaN\n",
       "39    January  2014         24.0                      inmate search    NaN\n",
       "40    January  2014         24.0                      civil service    NaN\n",
       "41    January  2014         24.0                      media release    NaN\n",
       "42    January  2014         23.0                            careers    NaN\n",
       "43    January  2014         23.0                            arrests    NaN\n",
       "44    January  2014         23.0                  police department    NaN\n",
       "45    January  2014         22.0                    associated bond    NaN\n",
       "46    January  2014         22.0                        procurement    NaN\n",
       "47    January  2014         22.0           employment opportunities    NaN\n",
       "48    January  2014         22.0                       public works    NaN\n",
       "49    January  2014         22.0                           mugshots    NaN"
      ]
     },
     "execution_count": 25,
     "metadata": {},
     "output_type": "execute_result"
    }
   ],
   "source": [
    "response.head(50)"
   ]
  },
  {
   "cell_type": "code",
   "execution_count": 54,
   "id": "d0757c62",
   "metadata": {},
   "outputs": [
    {
     "data": {
      "text/html": [
       "<div>\n",
       "<style scoped>\n",
       "    .dataframe tbody tr th:only-of-type {\n",
       "        vertical-align: middle;\n",
       "    }\n",
       "\n",
       "    .dataframe tbody tr th {\n",
       "        vertical-align: top;\n",
       "    }\n",
       "\n",
       "    .dataframe thead th {\n",
       "        text-align: right;\n",
       "    }\n",
       "</style>\n",
       "<table border=\"1\" class=\"dataframe\">\n",
       "  <thead>\n",
       "    <tr style=\"text-align: right;\">\n",
       "      <th></th>\n",
       "      <th>month_name</th>\n",
       "      <th>year</th>\n",
       "      <th>query_count</th>\n",
       "      <th>query_text</th>\n",
       "      <th>month</th>\n",
       "    </tr>\n",
       "  </thead>\n",
       "  <tbody>\n",
       "    <tr>\n",
       "      <th>2</th>\n",
       "      <td>January</td>\n",
       "      <td>2014</td>\n",
       "      <td>97.0</td>\n",
       "      <td>maps</td>\n",
       "      <td>NaN</td>\n",
       "    </tr>\n",
       "    <tr>\n",
       "      <th>503</th>\n",
       "      <td>February</td>\n",
       "      <td>2014</td>\n",
       "      <td>140.0</td>\n",
       "      <td>maps</td>\n",
       "      <td>NaN</td>\n",
       "    </tr>\n",
       "    <tr>\n",
       "      <th>1005</th>\n",
       "      <td>March</td>\n",
       "      <td>2014</td>\n",
       "      <td>144.0</td>\n",
       "      <td>maps</td>\n",
       "      <td>NaN</td>\n",
       "    </tr>\n",
       "    <tr>\n",
       "      <th>1503</th>\n",
       "      <td>April</td>\n",
       "      <td>2014</td>\n",
       "      <td>152.0</td>\n",
       "      <td>maps</td>\n",
       "      <td>NaN</td>\n",
       "    </tr>\n",
       "    <tr>\n",
       "      <th>2003</th>\n",
       "      <td>May</td>\n",
       "      <td>2014</td>\n",
       "      <td>119.0</td>\n",
       "      <td>maps</td>\n",
       "      <td>NaN</td>\n",
       "    </tr>\n",
       "    <tr>\n",
       "      <th>2506</th>\n",
       "      <td>June</td>\n",
       "      <td>2014</td>\n",
       "      <td>121.0</td>\n",
       "      <td>maps</td>\n",
       "      <td>NaN</td>\n",
       "    </tr>\n",
       "    <tr>\n",
       "      <th>3006</th>\n",
       "      <td>July</td>\n",
       "      <td>2014</td>\n",
       "      <td>121.0</td>\n",
       "      <td>maps</td>\n",
       "      <td>NaN</td>\n",
       "    </tr>\n",
       "    <tr>\n",
       "      <th>3506</th>\n",
       "      <td>August</td>\n",
       "      <td>2014</td>\n",
       "      <td>118.0</td>\n",
       "      <td>maps</td>\n",
       "      <td>NaN</td>\n",
       "    </tr>\n",
       "    <tr>\n",
       "      <th>4007</th>\n",
       "      <td>September</td>\n",
       "      <td>2014</td>\n",
       "      <td>115.0</td>\n",
       "      <td>maps</td>\n",
       "      <td>NaN</td>\n",
       "    </tr>\n",
       "    <tr>\n",
       "      <th>4508</th>\n",
       "      <td>October</td>\n",
       "      <td>2014</td>\n",
       "      <td>100.0</td>\n",
       "      <td>maps</td>\n",
       "      <td>NaN</td>\n",
       "    </tr>\n",
       "    <tr>\n",
       "      <th>5009</th>\n",
       "      <td>November</td>\n",
       "      <td>2014</td>\n",
       "      <td>82.0</td>\n",
       "      <td>maps</td>\n",
       "      <td>NaN</td>\n",
       "    </tr>\n",
       "    <tr>\n",
       "      <th>5512</th>\n",
       "      <td>December</td>\n",
       "      <td>2014</td>\n",
       "      <td>97.0</td>\n",
       "      <td>maps</td>\n",
       "      <td>NaN</td>\n",
       "    </tr>\n",
       "    <tr>\n",
       "      <th>6266</th>\n",
       "      <td>January</td>\n",
       "      <td>2015</td>\n",
       "      <td>119.0</td>\n",
       "      <td>maps</td>\n",
       "      <td>NaN</td>\n",
       "    </tr>\n",
       "    <tr>\n",
       "      <th>6717</th>\n",
       "      <td>February</td>\n",
       "      <td>2015</td>\n",
       "      <td>129.0</td>\n",
       "      <td>maps</td>\n",
       "      <td>NaN</td>\n",
       "    </tr>\n",
       "    <tr>\n",
       "      <th>7411</th>\n",
       "      <td>April</td>\n",
       "      <td>2015</td>\n",
       "      <td>130.0</td>\n",
       "      <td>maps</td>\n",
       "      <td>NaN</td>\n",
       "    </tr>\n",
       "    <tr>\n",
       "      <th>7900</th>\n",
       "      <td>May</td>\n",
       "      <td>2015</td>\n",
       "      <td>109.0</td>\n",
       "      <td>maps</td>\n",
       "      <td>NaN</td>\n",
       "    </tr>\n",
       "    <tr>\n",
       "      <th>8001</th>\n",
       "      <td>January</td>\n",
       "      <td>2017</td>\n",
       "      <td>117.0</td>\n",
       "      <td>maps</td>\n",
       "      <td>NaN</td>\n",
       "    </tr>\n",
       "    <tr>\n",
       "      <th>8780</th>\n",
       "      <td>July</td>\n",
       "      <td>2015</td>\n",
       "      <td>120.0</td>\n",
       "      <td>maps</td>\n",
       "      <td>NaN</td>\n",
       "    </tr>\n",
       "    <tr>\n",
       "      <th>8948</th>\n",
       "      <td>June</td>\n",
       "      <td>2015</td>\n",
       "      <td>148.0</td>\n",
       "      <td>maps</td>\n",
       "      <td>NaN</td>\n",
       "    </tr>\n",
       "    <tr>\n",
       "      <th>9569</th>\n",
       "      <td>August</td>\n",
       "      <td>2015</td>\n",
       "      <td>81.0</td>\n",
       "      <td>maps</td>\n",
       "      <td>NaN</td>\n",
       "    </tr>\n",
       "  </tbody>\n",
       "</table>\n",
       "</div>"
      ],
      "text/plain": [
       "     month_name  year  query_count query_text  month\n",
       "2       January  2014         97.0       maps    NaN\n",
       "503    February  2014        140.0       maps    NaN\n",
       "1005      March  2014        144.0       maps    NaN\n",
       "1503      April  2014        152.0       maps    NaN\n",
       "2003        May  2014        119.0       maps    NaN\n",
       "2506       June  2014        121.0       maps    NaN\n",
       "3006       July  2014        121.0       maps    NaN\n",
       "3506     August  2014        118.0       maps    NaN\n",
       "4007  September  2014        115.0       maps    NaN\n",
       "4508    October  2014        100.0       maps    NaN\n",
       "5009   November  2014         82.0       maps    NaN\n",
       "5512   December  2014         97.0       maps    NaN\n",
       "6266    January  2015        119.0       maps    NaN\n",
       "6717   February  2015        129.0       maps    NaN\n",
       "7411      April  2015        130.0       maps    NaN\n",
       "7900        May  2015        109.0       maps    NaN\n",
       "8001    January  2017        117.0       maps    NaN\n",
       "8780       July  2015        120.0       maps    NaN\n",
       "8948       June  2015        148.0       maps    NaN\n",
       "9569     August  2015         81.0       maps    NaN"
      ]
     },
     "execution_count": 54,
     "metadata": {},
     "output_type": "execute_result"
    }
   ],
   "source": [
    "maps = response[response.query_text == 'maps']\n",
    "maps.head(20)"
   ]
  },
  {
   "cell_type": "code",
   "execution_count": 55,
   "id": "d64245af",
   "metadata": {},
   "outputs": [
    {
     "data": {
      "text/html": [
       "<div>\n",
       "<style scoped>\n",
       "    .dataframe tbody tr th:only-of-type {\n",
       "        vertical-align: middle;\n",
       "    }\n",
       "\n",
       "    .dataframe tbody tr th {\n",
       "        vertical-align: top;\n",
       "    }\n",
       "\n",
       "    .dataframe thead th {\n",
       "        text-align: right;\n",
       "    }\n",
       "</style>\n",
       "<table border=\"1\" class=\"dataframe\">\n",
       "  <thead>\n",
       "    <tr style=\"text-align: right;\">\n",
       "      <th></th>\n",
       "      <th>month_name</th>\n",
       "      <th>year</th>\n",
       "      <th>query_count</th>\n",
       "      <th>query_text</th>\n",
       "      <th>month</th>\n",
       "    </tr>\n",
       "  </thead>\n",
       "  <tbody>\n",
       "    <tr>\n",
       "      <th>39196</th>\n",
       "      <td>November</td>\n",
       "      <td>2020</td>\n",
       "      <td>86.0</td>\n",
       "      <td>maps</td>\n",
       "      <td>11.0</td>\n",
       "    </tr>\n",
       "    <tr>\n",
       "      <th>39688</th>\n",
       "      <td>December</td>\n",
       "      <td>2020</td>\n",
       "      <td>113.0</td>\n",
       "      <td>maps</td>\n",
       "      <td>12.0</td>\n",
       "    </tr>\n",
       "    <tr>\n",
       "      <th>41188</th>\n",
       "      <td>March</td>\n",
       "      <td>2021</td>\n",
       "      <td>132.0</td>\n",
       "      <td>maps</td>\n",
       "      <td>3.0</td>\n",
       "    </tr>\n",
       "    <tr>\n",
       "      <th>41683</th>\n",
       "      <td>April</td>\n",
       "      <td>2021</td>\n",
       "      <td>148.0</td>\n",
       "      <td>maps</td>\n",
       "      <td>4.0</td>\n",
       "    </tr>\n",
       "    <tr>\n",
       "      <th>42682</th>\n",
       "      <td>June</td>\n",
       "      <td>2021</td>\n",
       "      <td>151.0</td>\n",
       "      <td>maps</td>\n",
       "      <td>6.0</td>\n",
       "    </tr>\n",
       "  </tbody>\n",
       "</table>\n",
       "</div>"
      ],
      "text/plain": [
       "      month_name  year  query_count query_text  month\n",
       "39196   November  2020         86.0       maps   11.0\n",
       "39688   December  2020        113.0       maps   12.0\n",
       "41188      March  2021        132.0       maps    3.0\n",
       "41683      April  2021        148.0       maps    4.0\n",
       "42682       June  2021        151.0       maps    6.0"
      ]
     },
     "execution_count": 55,
     "metadata": {},
     "output_type": "execute_result"
    }
   ],
   "source": [
    "maps.tail()"
   ]
  },
  {
   "cell_type": "code",
   "execution_count": 57,
   "id": "1abafbd9",
   "metadata": {},
   "outputs": [
    {
     "data": {
      "text/plain": [
       "<function matplotlib.pyplot.show(close=None, block=None)>"
      ]
     },
     "execution_count": 57,
     "metadata": {},
     "output_type": "execute_result"
    },
    {
     "data": {
      "image/png": "[encoded data removed]",
      "text/plain": [
       "<Figure size 432x288 with 1 Axes>"
      ]
     },
     "metadata": {},
     "output_type": "display_data"
    }
   ],
   "source": [
    "g = plt.plot(maps.index, maps.query_count)\n",
    "plt.xticks(color='w')\n",
    "plt.title('Nashville Searches for \"MAPS\", 2014-2021')\n",
    "plt.xlabel('Months, 2014-2021')\n",
    "plt.ylabel('Number of Queries')\n",
    "plt.show"
   ]
  },
  {
   "cell_type": "code",
   "execution_count": 27,
   "id": "2cd94687",
   "metadata": {},
   "outputs": [],
   "source": [
    "#https://dev.socrata.com/docs/functions/sum.html\n",
    "mapsendpoint = 'https://data.nashville.gov/resource/fuaa-r5cm.json?$select=month_name,sum(query_count)&$group=month_name&$where=query_text=\"maps\"&$limit=50000'"
   ]
  },
  {
   "cell_type": "code",
   "execution_count": 28,
   "id": "bd259de4",
   "metadata": {},
   "outputs": [
    {
     "data": {
      "text/plain": [
       "<Response [200]>"
      ]
     },
     "execution_count": 28,
     "metadata": {},
     "output_type": "execute_result"
    }
   ],
   "source": [
    "maps = requests.get(mapsendpoint)\n",
    "maps"
   ]
  },
  {
   "cell_type": "code",
   "execution_count": 29,
   "id": "35060a60",
   "metadata": {},
   "outputs": [],
   "source": [
    "maps_searches = pd.read_json('https://data.nashville.gov/resource/fuaa-r5cm.json?$select=month_name,sum(query_count)&$group=month_name&$where=query_text=\"maps\"&$limit=50000')"
   ]
  },
  {
   "cell_type": "code",
   "execution_count": 30,
   "id": "32f7bcdc",
   "metadata": {},
   "outputs": [
    {
     "name": "stdout",
     "output_type": "stream",
     "text": [
      "<class 'pandas.core.frame.DataFrame'>\n",
      "RangeIndex: 12 entries, 0 to 11\n",
      "Data columns (total 2 columns):\n",
      " #   Column           Non-Null Count  Dtype \n",
      "---  ------           --------------  ----- \n",
      " 0   month_name       12 non-null     object\n",
      " 1   sum_query_count  12 non-null     int64 \n",
      "dtypes: int64(1), object(1)\n",
      "memory usage: 320.0+ bytes\n"
     ]
    }
   ],
   "source": [
    "maps_searches.info()"
   ]
  },
  {
   "cell_type": "code",
   "execution_count": 31,
   "id": "faed064d",
   "metadata": {},
   "outputs": [
    {
     "data": {
      "text/html": [
       "<div>\n",
       "<style scoped>\n",
       "    .dataframe tbody tr th:only-of-type {\n",
       "        vertical-align: middle;\n",
       "    }\n",
       "\n",
       "    .dataframe tbody tr th {\n",
       "        vertical-align: top;\n",
       "    }\n",
       "\n",
       "    .dataframe thead th {\n",
       "        text-align: right;\n",
       "    }\n",
       "</style>\n",
       "<table border=\"1\" class=\"dataframe\">\n",
       "  <thead>\n",
       "    <tr style=\"text-align: right;\">\n",
       "      <th></th>\n",
       "      <th>month_name</th>\n",
       "      <th>sum_query_count</th>\n",
       "    </tr>\n",
       "  </thead>\n",
       "  <tbody>\n",
       "    <tr>\n",
       "      <th>0</th>\n",
       "      <td>April</td>\n",
       "      <td>1309</td>\n",
       "    </tr>\n",
       "    <tr>\n",
       "      <th>1</th>\n",
       "      <td>August</td>\n",
       "      <td>991</td>\n",
       "    </tr>\n",
       "    <tr>\n",
       "      <th>2</th>\n",
       "      <td>December</td>\n",
       "      <td>556</td>\n",
       "    </tr>\n",
       "    <tr>\n",
       "      <th>3</th>\n",
       "      <td>February</td>\n",
       "      <td>832</td>\n",
       "    </tr>\n",
       "    <tr>\n",
       "      <th>4</th>\n",
       "      <td>January</td>\n",
       "      <td>924</td>\n",
       "    </tr>\n",
       "    <tr>\n",
       "      <th>5</th>\n",
       "      <td>July</td>\n",
       "      <td>1062</td>\n",
       "    </tr>\n",
       "    <tr>\n",
       "      <th>6</th>\n",
       "      <td>June</td>\n",
       "      <td>1216</td>\n",
       "    </tr>\n",
       "    <tr>\n",
       "      <th>7</th>\n",
       "      <td>March</td>\n",
       "      <td>1090</td>\n",
       "    </tr>\n",
       "    <tr>\n",
       "      <th>8</th>\n",
       "      <td>May</td>\n",
       "      <td>1019</td>\n",
       "    </tr>\n",
       "    <tr>\n",
       "      <th>9</th>\n",
       "      <td>November</td>\n",
       "      <td>805</td>\n",
       "    </tr>\n",
       "    <tr>\n",
       "      <th>10</th>\n",
       "      <td>October</td>\n",
       "      <td>981</td>\n",
       "    </tr>\n",
       "    <tr>\n",
       "      <th>11</th>\n",
       "      <td>September</td>\n",
       "      <td>951</td>\n",
       "    </tr>\n",
       "  </tbody>\n",
       "</table>\n",
       "</div>"
      ],
      "text/plain": [
       "   month_name  sum_query_count\n",
       "0       April             1309\n",
       "1      August              991\n",
       "2    December              556\n",
       "3    February              832\n",
       "4     January              924\n",
       "5        July             1062\n",
       "6        June             1216\n",
       "7       March             1090\n",
       "8         May             1019\n",
       "9    November              805\n",
       "10    October              981\n",
       "11  September              951"
      ]
     },
     "execution_count": 31,
     "metadata": {},
     "output_type": "execute_result"
    }
   ],
   "source": [
    "maps_searches.head(12)"
   ]
  },
  {
   "cell_type": "code",
   "execution_count": 32,
   "id": "21c73359",
   "metadata": {},
   "outputs": [],
   "source": [
    "maps_searches = maps_searches.sort_values(by=['sum_query_count'], ascending=False)"
   ]
  },
  {
   "cell_type": "code",
   "execution_count": 33,
   "id": "79fe82cd",
   "metadata": {},
   "outputs": [
    {
     "data": {
      "text/html": [
       "<div>\n",
       "<style scoped>\n",
       "    .dataframe tbody tr th:only-of-type {\n",
       "        vertical-align: middle;\n",
       "    }\n",
       "\n",
       "    .dataframe tbody tr th {\n",
       "        vertical-align: top;\n",
       "    }\n",
       "\n",
       "    .dataframe thead th {\n",
       "        text-align: right;\n",
       "    }\n",
       "</style>\n",
       "<table border=\"1\" class=\"dataframe\">\n",
       "  <thead>\n",
       "    <tr style=\"text-align: right;\">\n",
       "      <th></th>\n",
       "      <th>month_name</th>\n",
       "      <th>sum_query_count</th>\n",
       "    </tr>\n",
       "  </thead>\n",
       "  <tbody>\n",
       "    <tr>\n",
       "      <th>0</th>\n",
       "      <td>April</td>\n",
       "      <td>1309</td>\n",
       "    </tr>\n",
       "    <tr>\n",
       "      <th>6</th>\n",
       "      <td>June</td>\n",
       "      <td>1216</td>\n",
       "    </tr>\n",
       "    <tr>\n",
       "      <th>7</th>\n",
       "      <td>March</td>\n",
       "      <td>1090</td>\n",
       "    </tr>\n",
       "    <tr>\n",
       "      <th>5</th>\n",
       "      <td>July</td>\n",
       "      <td>1062</td>\n",
       "    </tr>\n",
       "    <tr>\n",
       "      <th>8</th>\n",
       "      <td>May</td>\n",
       "      <td>1019</td>\n",
       "    </tr>\n",
       "    <tr>\n",
       "      <th>1</th>\n",
       "      <td>August</td>\n",
       "      <td>991</td>\n",
       "    </tr>\n",
       "    <tr>\n",
       "      <th>10</th>\n",
       "      <td>October</td>\n",
       "      <td>981</td>\n",
       "    </tr>\n",
       "    <tr>\n",
       "      <th>11</th>\n",
       "      <td>September</td>\n",
       "      <td>951</td>\n",
       "    </tr>\n",
       "    <tr>\n",
       "      <th>4</th>\n",
       "      <td>January</td>\n",
       "      <td>924</td>\n",
       "    </tr>\n",
       "    <tr>\n",
       "      <th>3</th>\n",
       "      <td>February</td>\n",
       "      <td>832</td>\n",
       "    </tr>\n",
       "    <tr>\n",
       "      <th>9</th>\n",
       "      <td>November</td>\n",
       "      <td>805</td>\n",
       "    </tr>\n",
       "    <tr>\n",
       "      <th>2</th>\n",
       "      <td>December</td>\n",
       "      <td>556</td>\n",
       "    </tr>\n",
       "  </tbody>\n",
       "</table>\n",
       "</div>"
      ],
      "text/plain": [
       "   month_name  sum_query_count\n",
       "0       April             1309\n",
       "6        June             1216\n",
       "7       March             1090\n",
       "5        July             1062\n",
       "8         May             1019\n",
       "1      August              991\n",
       "10    October              981\n",
       "11  September              951\n",
       "4     January              924\n",
       "3    February              832\n",
       "9    November              805\n",
       "2    December              556"
      ]
     },
     "execution_count": 33,
     "metadata": {},
     "output_type": "execute_result"
    }
   ],
   "source": [
    "maps_searches.head(12)"
   ]
  },
  {
   "cell_type": "code",
   "execution_count": 34,
   "id": "1731b3ce",
   "metadata": {},
   "outputs": [],
   "source": [
    "maps_searches.month_name = maps_searches.month_name.str[0:3]"
   ]
  },
  {
   "cell_type": "code",
   "execution_count": 35,
   "id": "5ae28777",
   "metadata": {},
   "outputs": [
    {
     "data": {
      "text/html": [
       "<div>\n",
       "<style scoped>\n",
       "    .dataframe tbody tr th:only-of-type {\n",
       "        vertical-align: middle;\n",
       "    }\n",
       "\n",
       "    .dataframe tbody tr th {\n",
       "        vertical-align: top;\n",
       "    }\n",
       "\n",
       "    .dataframe thead th {\n",
       "        text-align: right;\n",
       "    }\n",
       "</style>\n",
       "<table border=\"1\" class=\"dataframe\">\n",
       "  <thead>\n",
       "    <tr style=\"text-align: right;\">\n",
       "      <th></th>\n",
       "      <th>month_name</th>\n",
       "      <th>sum_query_count</th>\n",
       "    </tr>\n",
       "  </thead>\n",
       "  <tbody>\n",
       "    <tr>\n",
       "      <th>0</th>\n",
       "      <td>Apr</td>\n",
       "      <td>1309</td>\n",
       "    </tr>\n",
       "    <tr>\n",
       "      <th>6</th>\n",
       "      <td>Jun</td>\n",
       "      <td>1216</td>\n",
       "    </tr>\n",
       "    <tr>\n",
       "      <th>7</th>\n",
       "      <td>Mar</td>\n",
       "      <td>1090</td>\n",
       "    </tr>\n",
       "    <tr>\n",
       "      <th>5</th>\n",
       "      <td>Jul</td>\n",
       "      <td>1062</td>\n",
       "    </tr>\n",
       "    <tr>\n",
       "      <th>8</th>\n",
       "      <td>May</td>\n",
       "      <td>1019</td>\n",
       "    </tr>\n",
       "    <tr>\n",
       "      <th>1</th>\n",
       "      <td>Aug</td>\n",
       "      <td>991</td>\n",
       "    </tr>\n",
       "    <tr>\n",
       "      <th>10</th>\n",
       "      <td>Oct</td>\n",
       "      <td>981</td>\n",
       "    </tr>\n",
       "    <tr>\n",
       "      <th>11</th>\n",
       "      <td>Sep</td>\n",
       "      <td>951</td>\n",
       "    </tr>\n",
       "    <tr>\n",
       "      <th>4</th>\n",
       "      <td>Jan</td>\n",
       "      <td>924</td>\n",
       "    </tr>\n",
       "    <tr>\n",
       "      <th>3</th>\n",
       "      <td>Feb</td>\n",
       "      <td>832</td>\n",
       "    </tr>\n",
       "    <tr>\n",
       "      <th>9</th>\n",
       "      <td>Nov</td>\n",
       "      <td>805</td>\n",
       "    </tr>\n",
       "    <tr>\n",
       "      <th>2</th>\n",
       "      <td>Dec</td>\n",
       "      <td>556</td>\n",
       "    </tr>\n",
       "  </tbody>\n",
       "</table>\n",
       "</div>"
      ],
      "text/plain": [
       "   month_name  sum_query_count\n",
       "0         Apr             1309\n",
       "6         Jun             1216\n",
       "7         Mar             1090\n",
       "5         Jul             1062\n",
       "8         May             1019\n",
       "1         Aug              991\n",
       "10        Oct              981\n",
       "11        Sep              951\n",
       "4         Jan              924\n",
       "3         Feb              832\n",
       "9         Nov              805\n",
       "2         Dec              556"
      ]
     },
     "execution_count": 35,
     "metadata": {},
     "output_type": "execute_result"
    }
   ],
   "source": [
    "maps_searches.head(12)"
   ]
  },
  {
   "cell_type": "code",
   "execution_count": 58,
   "id": "0d6773af",
   "metadata": {},
   "outputs": [
    {
     "data": {
      "text/plain": [
       "<function matplotlib.pyplot.show(close=None, block=None)>"
      ]
     },
     "execution_count": 58,
     "metadata": {},
     "output_type": "execute_result"
    },
    {
     "data": {
      "image/png": "[encoded data removed]",
      "text/plain": [
       "<Figure size 432x288 with 1 Axes>"
      ]
     },
     "metadata": {
      "needs_background": "light"
     },
     "output_type": "display_data"
    }
   ],
   "source": [
    "plt.bar(maps_searches.month_name, maps_searches.sum_query_count)\n",
    "plt.title('Nashville Searches for \"MAPS\" By Month, 2014-2021')\n",
    "plt.ylabel('Number of Queries')\n",
    "plt.show"
   ]
  }
 ],
 "metadata": {
  "kernelspec": {
   "display_name": "Python 3 (ipykernel)",
   "language": "python",
   "name": "python3"
  },
  "language_info": {
   "codemirror_mode": {
    "name": "ipython",
    "version": 3
   },
   "file_extension": ".py",
   "mimetype": "text/x-python",
   "name": "python",
   "nbconvert_exporter": "python",
   "pygments_lexer": "ipython3",
   "version": "3.9.7"
  }
 },
 "nbformat": 4,
 "nbformat_minor": 5
}
